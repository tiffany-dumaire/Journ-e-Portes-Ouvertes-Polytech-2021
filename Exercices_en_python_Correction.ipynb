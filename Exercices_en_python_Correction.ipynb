{
  "nbformat": 4,
  "nbformat_minor": 0,
  "metadata": {
    "colab": {
      "name": "Exercices_en_python_Correction.ipynb",
      "provenance": [],
      "collapsed_sections": [],
      "include_colab_link": true
    },
    "kernelspec": {
      "name": "python3",
      "display_name": "Python 3"
    }
  },
  "cells": [
    {
      "cell_type": "markdown",
      "metadata": {
        "id": "view-in-github",
        "colab_type": "text"
      },
      "source": [
        "<a href=\"https://colab.research.google.com/github/tiffany-dumaire/Journ-e-Portes-Ouvertes-Polytech-2021/blob/main/Exercices_en_python_Correction.ipynb\" target=\"_parent\"><img src=\"https://colab.research.google.com/assets/colab-badge.svg\" alt=\"Open In Colab\"/></a>"
      ]
    },
    {
      "cell_type": "markdown",
      "metadata": {
        "id": "Ow3upsVTYpUK"
      },
      "source": [
        "# **Vos Informations**"
      ]
    },
    {
      "cell_type": "markdown",
      "metadata": {
        "id": "SuMM79Qa6PDR"
      },
      "source": [
        "Dans un premier temps, vous allez devoir remplir le formulaire avec vos informations. Vous aurez le choix de le garder anonyme ou de renvoyer l'exercice finalisée à l'adresse mail suivante : \r\n",
        "<adresse_speciale_jpo?oui|non> afin d'obtenir une correction ou d'en discuter."
      ]
    },
    {
      "cell_type": "code",
      "metadata": {
        "id": "_dRmGbRJRveV",
        "cellView": "form"
      },
      "source": [
        "#@markdown Remplissez ce formulaire avec vos informations et renvoyer le fichier par mail si vous souhaitez obtenir une correction de la part des étudiants d'IG ;)\r\n",
        "Nom = ''  #@param {type: \"string\"}\r\n",
        "Prénom = ''  #@param {type: \"string\"}\r\n",
        "Date_de_naissance = '2001-07-05'  #@param {type: \"date\"}\r\n",
        "Classe = \"Terminale\"  #@param ['Première','Terminale', 'Bac +1', 'Bac +2', 'Bac +3','Autre']\r\n",
        "Futur_ou_future_IG = \"Oui\"  #@param ['Oui','Non', 'Je ne sais pas']\r\n"
      ],
      "execution_count": null,
      "outputs": []
    },
    {
      "cell_type": "markdown",
      "metadata": {
        "id": "r0X1tbVJGuE-"
      },
      "source": [
        "# **Objectif**"
      ]
    },
    {
      "cell_type": "markdown",
      "metadata": {
        "id": "veD8BN6aIF-c"
      },
      "source": [
        "Le but des exercices qui suivront est de vous donner un avant goût de ce que vous pourrez faire en IG sans pour autant vous demandez de coder un projet maintenant. Ici, le code sera en *Python* mais durant votre formation, vous coderez aussi bien en *Python qu'en Java, Javascript, Assembleur, R*, etc...*texte en italique*\r\n",
        "\r\n",
        "\r\n",
        "---\r\n",
        "\r\n",
        "Après les exercices vous pourrez trouver des aides pour les réaliser plus facilement ! Si vous avez un problème n'hésitez pas à nous le demander sur le vocal :) \r\n"
      ]
    },
    {
      "cell_type": "markdown",
      "metadata": {
        "id": "_jhV0UTnLOZK"
      },
      "source": [
        "# **Exercice 1 : La Monnaie**"
      ]
    },
    {
      "cell_type": "markdown",
      "metadata": {
        "id": "6dP4Ukev5kTb"
      },
      "source": [
        "Dans cet exercice, vous allez devoir compléter une fonction permettant à un commerçant de faire son choix de pièces au plus vite pour rendre la monnaie."
      ]
    },
    {
      "cell_type": "markdown",
      "metadata": {
        "id": "n3_i8uGfzfWT"
      },
      "source": [
        "### **Partie 1 : Le plus petit nombre de pièces**\r\n"
      ]
    },
    {
      "cell_type": "markdown",
      "metadata": {
        "id": "JwUVdxPn5nt8"
      },
      "source": [
        "Pour commencer, vous allez compléter la fonction de façon à ce que le commerçant puisse rendre le moins de pièces possibles sachant qu'il ne peut rendre que des pièces de 5, 10, 20 et 50 centimes. "
      ]
    },
    {
      "cell_type": "code",
      "metadata": {
        "id": "ie4JOnL_bgvV"
      },
      "source": [
        "from ipywidgets import interact, widgets, IntSlider\r\n",
        "\r\n",
        "# Fonction permettant de calculer le nombre de pièces de 5, de 10, de 20 et de 50 centimes en fonction de \r\n",
        "# la monnaie à rendre (entre 0 et 1000)\r\n",
        "@interact(monnaie = widgets.IntSlider(value=500, description='Indiquer la monnaie à rendre :', max=1000, min=0,step=5))\r\n",
        "def rendreMonnaie(monnaie):\r\n",
        "  #s'il n'y a pas de monnaie à rendre le vendeur dit au revoir au client\r\n",
        "  if monnaie == 0 :\r\n",
        "    print('Au revoir, passez une agréable journée !')\r\n",
        "  #sinon\r\n",
        "  else:\r\n",
        "     # nombre de pièces rendus pour chaque type de pièces !\r\n",
        "      # nombre de pièces de 5 centimes qui seront rendues\r\n",
        "      pr5 = 0\r\n",
        "      # nombre de pièces de 10 centimes qui seront rendues\r\n",
        "      pr10 = 0\r\n",
        "      # nombre de pièces de 20 centimes qui seront rendues\r\n",
        "      pr20 = 0\r\n",
        "      # nombre de pièces de 50 centimes qui seront rendues\r\n",
        "      pr50 = 0\r\n",
        "      # monnaie restante à rendre\r\n",
        "      reste = monnaie\r\n",
        "      # Rédiger ici la portion de code qui définit la monnaie que le vendeur a à rendre au client pièce par pièce en utilisant le moins de pièce possible (sans se servir des paramètres p5, p10, p20 et p50) !\r\n",
        "      ###########A REMPLIR######################\r\n",
        "      while reste >= 50 :\r\n",
        "        pr50 = pr50 +1\r\n",
        "        reste = reste - 50\r\n",
        "      while reste >= 20 :\r\n",
        "        pr20 = pr20 +1\r\n",
        "        reste = reste - 20\r\n",
        "      while reste >= 10 : \r\n",
        "        pr10 = pr10 +1\r\n",
        "        reste = reste - 10\r\n",
        "      while reste >= 5 :\r\n",
        "        pr5 = pr5 + 1\r\n",
        "        reste = reste - 5 \r\n",
        "      ##########################################\r\n",
        "      # on affiche la monnaie rendue par le commerçant au client\r\n",
        "      print('Voici votre monnaie : \\n- Nombre de pièces de 5 cents : %d \\n- Nombre de pièces de 10 cents : %d \\n- Nombre de pièces de 20 cents : %d \\n- Nombre de pièces de 50 cents : %d'%(pr5,pr10,pr20,pr50))\r\n",
        "\r\n"
      ],
      "execution_count": null,
      "outputs": []
    },
    {
      "cell_type": "markdown",
      "metadata": {
        "id": "S7xTb_mX09sV"
      },
      "source": [
        "### **Partie 2 : Contrainte du contenu de la caisse**"
      ]
    },
    {
      "cell_type": "markdown",
      "metadata": {
        "id": "4UuuuhpX5qcw"
      },
      "source": [
        "Dorénavant, vous allez vous allez compléter la fonction de façon à ce que le commerçant puisse rendre le moins de pièces possibles sachant qu'il ne peut rendre que des pièces de 5, 10, 20 et 50 centimes. Cependant, le commerçant en question aura un nombre limité de pièces dans la caisse. Il faudra donc prendre en compte les nombres de pièces de 5, de 10, de 20 et de 50 centimes contenues dans la caisse du commerçant avant de définir le nombre de pièces à rendre."
      ]
    },
    {
      "cell_type": "code",
      "metadata": {
        "id": "H3Okza1EtXVV"
      },
      "source": [
        "from ipywidgets import interact, widgets, IntSlider\r\n",
        "\r\n",
        "# Fonction permettant de calculer le nombre de pièces de 5, de 10, de 20 et de 50 centimes en fonction de \r\n",
        "# la monnaie à rendre (entre 0 et 1000) mais aussi en fonction du nombre de pièce de 5 centimes (entre 0 et 10),\r\n",
        "# du nombre de pièces de 10 centimes (entre 0 et 10), du nombre de pièces de 20 centimes (entre 0 et 10) \r\n",
        "# et du nombre de pièce de 50 centimes (entre 0 et 13)\r\n",
        "@interact(monnaie = widgets.IntSlider(value=500, description='Indiquer la monnaie à rendre :', max=1000, min=0,step=5), p5=widgets.IntSlider(value=5, description='Pièces de 5 centimes :', max=10, min=0,step=1),p10=widgets.IntSlider(value=5, description='Pièces de 10 centimes :', max=10, min=0,step=1),p20=widgets.IntSlider(value=5, description='Pièces de 20 centimes :', max=10, min=0,step=1),p50=widgets.IntSlider(value=5, description='Pièces de 50 centimes :', max=13, min=0,step=1))\r\n",
        "def rendreMonnaie(monnaie,p5,p10,p20,p50):\r\n",
        "  #s'il n'y a pas de monnaie à rendre, le vendeur est content et dit au revoir à son client\r\n",
        "  if monnaie == 0 :\r\n",
        "    print('Au revoir, passez une agréable journée !')\r\n",
        "  #sinon\r\n",
        "  else:\r\n",
        "    # on vérifie que le nombre de pièces contenues dans la casse suffira à pouvoir rendre la monnaie\r\n",
        "    if monnaie <= (p50*50+p20*20+p10*10+p5*5):\r\n",
        "      # nombre de pièces rendus pour chaque type de pièces !\r\n",
        "      # nombre de pièces de 5 centimes qui seront rendues\r\n",
        "      pr5 = 0\r\n",
        "      # nombre de pièces de 10 centimes qui seront rendues\r\n",
        "      pr10 = 0\r\n",
        "      # nombre de pièces de 20 centimes qui seront rendues\r\n",
        "      pr20 = 0\r\n",
        "      # nombre de pièces de 50 centimes qui seront rendues\r\n",
        "      pr50 = 0\r\n",
        "      # monnaie restante à rendre\r\n",
        "      reste = monnaie\r\n",
        "      # Rédiger ici la portion de code qui définit la monnaie que le vendeur a à rendre au client pièce par pièce en utilisant le moins de pièce possible (sans se servir des paramètres p5, p10, p20 et p50) !\r\n",
        "      ###########A REMPLIR######################\r\n",
        "      while (p50 > 0) and (reste >= 50) : \r\n",
        "        pr50 = pr50 +1\r\n",
        "        reste = reste - 50\r\n",
        "        p50 = p50-1\r\n",
        "      while (p20 > 0) and (reste >= 20) :\r\n",
        "        pr20 = pr20 +1\r\n",
        "        reste = reste - 20\r\n",
        "        p20 = p20-1\r\n",
        "      while (p10 > 0) and (reste >= 10) : \r\n",
        "        pr10 = pr10 +1\r\n",
        "        reste = reste - 10\r\n",
        "        p10 = p10-1\r\n",
        "      while (p5 > 0) and (reste >= 5) :\r\n",
        "        pr5 = pr5 + 1\r\n",
        "        reste = reste - 5 \r\n",
        "        p5 = p5-1\r\n",
        "      ##########################################\r\n",
        "      # on affiche la monnaie rendue par le commerçant au client\r\n",
        "      print('Voici votre monnaie : \\n- Nombre de pièces de 5 cents : %d \\n- Nombre de pièces de 10 cents : %d \\n- Nombre de pièces de 20 cents : %d \\n- Nombre de pièces de 50 cents : %d'%(pr5,pr10,pr20,pr50))\r\n",
        "    # si le nombre de pièce est insuffisant pour rendre la monnaie au client\r\n",
        "    else:\r\n",
        "      # le commerçant prévient qu'il va chercher de la monnaie\r\n",
        "      print(\"Je suis désolé mais je n'ai pas assez de monnaie dans la caisse, je vais en chercher....\")"
      ],
      "execution_count": null,
      "outputs": []
    },
    {
      "cell_type": "markdown",
      "metadata": {
        "id": "EjCrw866DFCS"
      },
      "source": [
        "# **Exercice 2 : Le Shifumi**"
      ]
    },
    {
      "cell_type": "markdown",
      "metadata": {
        "id": "UQzB4krDDojZ"
      },
      "source": [
        "Nous allons maintenant implémenter le jeu nommé ***Shifumi***, plus courramment appelé ***Pierre-Feuille-Ciseaux***. \r\n",
        "\r\n",
        "Le **Shifumi** est un jeu à deux joueurs. \r\n",
        "\r\n"
      ]
    },
    {
      "cell_type": "markdown",
      "metadata": {
        "id": "cyvAWFUXFzyB"
      },
      "source": [
        "## **Affichage des emojis**"
      ]
    },
    {
      "cell_type": "markdown",
      "metadata": {
        "id": "9zVb76HpF6BY"
      },
      "source": [
        "Nous allons installer la librairie permettant d'afficher les émojis en Python. "
      ]
    },
    {
      "cell_type": "code",
      "metadata": {
        "id": "PuI4BV5YBp7t"
      },
      "source": [
        "# Pour commencer on installe le module emoji afin d'afficher des emojis !\r\n",
        "!pip install emoji"
      ],
      "execution_count": null,
      "outputs": []
    },
    {
      "cell_type": "markdown",
      "metadata": {
        "id": "VKSGUw8GGE9j"
      },
      "source": [
        "Maintenant nous allons vous montrer comment afficher les smileys qui vous seront utiles dans le cadre de ce jeu !"
      ]
    },
    {
      "cell_type": "code",
      "metadata": {
        "id": "hVEQ11-Q_IqS"
      },
      "source": [
        "# on importe la librairie qui permet d'afficher les émojis\r\n",
        "import emoji\r\n",
        "\r\n",
        "# affichage du ciseau\r\n",
        "print(emoji.emojize('Voici le ciseau : :scissors: ou :v:', use_aliases=True))\r\n",
        "# affichage du papier\r\n",
        "print(emoji.emojize('Voici le papier : :page_with_curl: ou :raised_hand:',use_aliases=True))\r\n",
        "# affichage de la pierre\r\n",
        "print(emoji.emojize('Voici la pierre : :moyai: ou :punch:',use_aliases=True))"
      ],
      "execution_count": null,
      "outputs": []
    },
    {
      "cell_type": "markdown",
      "metadata": {
        "id": "hIcuL8PbGgDD"
      },
      "source": [
        "## **A votre tour**"
      ]
    },
    {
      "cell_type": "markdown",
      "metadata": {
        "id": "3R_udD69G9Cy"
      },
      "source": [
        "Comme pour l'exercice précédent, vous allez maintenant devoir compléter le code afin de pouvoir jouer au morpion !"
      ]
    },
    {
      "cell_type": "markdown",
      "metadata": {
        "id": "OGU9QklbH0UN"
      },
      "source": [
        "### **Le joueur**"
      ]
    },
    {
      "cell_type": "markdown",
      "metadata": {
        "id": "Qzb6ehfXH5U3"
      },
      "source": [
        "Avant de commencer, nous allons définir le pseudo du joueur. Le second joueur sera la machine qui choisira un signe aléatoirement."
      ]
    },
    {
      "cell_type": "code",
      "metadata": {
        "cellView": "form",
        "id": "gtiT4-3XIJKM"
      },
      "source": [
        "#@markdown Remplissez ce formulaire afin de définir votre pseudo !\r\n",
        "Pseudo = 'Chifu'  #@param {type: \"string\"}"
      ],
      "execution_count": null,
      "outputs": []
    },
    {
      "cell_type": "markdown",
      "metadata": {
        "id": "zDaygyOyHIfE"
      },
      "source": [
        "### **Quelques fonctions utiles**"
      ]
    },
    {
      "cell_type": "markdown",
      "metadata": {
        "id": "SmXeteqqHOFE"
      },
      "source": [
        "Nous allons commencer par implémenter un ensemble de fonctions qui vous serviront par la suite dans le déroulement du jeu."
      ]
    },
    {
      "cell_type": "code",
      "metadata": {
        "id": "x7xIfn0dG8NI"
      },
      "source": [
        "# Librairies\r\n",
        "import random\r\n",
        "import re\r\n",
        "\r\n",
        "# A l'aide de cette méthode, on demande au joueur le signe qu'il souhaite jouer\r\n",
        "def jouer():\r\n",
        "  ###########A REMPLIR######################\r\n",
        "  # On demande au joueur le coup qu'il souhaite jouer, pensez à préciser qu'il faut écrire 'ciseaux', 'feuille', ou 'pierre'\r\n",
        "  coup = str(input(\"Quel signe désirez-vous jouer ?\\nVous avez le choix entre 'pierre', 'feuille' et 'ciseaux'.\\n\"))\r\n",
        "  # On redemande tant que le coup n'existe pas\r\n",
        "  while not(re.match('ciseaux|pierre|feuille',coup)):\r\n",
        "    # on affiche un message d'erreur (dire que ça n'est pas un signe ou que ça n'était pas un choix proposé)\r\n",
        "    print(\"Ceci n'est pas un signe du jeu.\")\r\n",
        "    # On demande au joueur le coup qu'il souhaite jouer, pensez à préciser qu'il faut écrire 'ciseaux', 'feuille', ou 'pierre'\r\n",
        "    coup = str(input(\"Quel signe désirez-vous jouer ?\\nVous avez le choix entre 'pierre', 'feuille' et 'ciseaux'.\\n\"))\r\n",
        "  # on retourne le coup choisi par le joueur\r\n",
        "  return coup\r\n",
        "  ##########################################\r\n",
        "\r\n",
        "# A l'aide de cette méthode, on définit le coup aléatoire choisi par la machine\r\n",
        "def coup_aleatoire():\r\n",
        "  # tableaux contenant les signes qui peuvent être choisis\r\n",
        "  signes = ['pierre','feuille', 'ciseaux']\r\n",
        "  ###########A REMPLIR######################\r\n",
        "  # choix est un entier généré aléatoirement parmi les indices du tableau de signes\r\n",
        "  choix = random.randint(0,len(signes)-1)\r\n",
        "  # on retourne le choix fait aléatoirement\r\n",
        "  return signes[choix]\r\n",
        "  ##########################################\r\n",
        "\r\n",
        "# Permet d'afficher le choix du joueur en paramètre.\r\n",
        "# pseudo_joueur : correspond au Pseudo du joueur ou a 'ordi'\r\n",
        "# choix_joueur  : correspond au choix du joueur ou au choix de l'ordi\r\n",
        "def afficher_choix(pseudo_joueur,choix_joueur):\r\n",
        "  # on affiche le signe que le joueur en paramètre a choisi de jouer\r\n",
        "  choix = ''\r\n",
        "  ###########A REMPLIR######################\r\n",
        "  # si le choix est 'pierre' :\r\n",
        "  if choix_joueur == 'pierre':\r\n",
        "    choix = emoji.emojize(':punch:', use_aliases=True)\r\n",
        "  # si le choix est 'feuille' :\r\n",
        "  if choix_joueur == 'feuille':\r\n",
        "    choix = emoji.emojize(':raised_hand:', use_aliases=True)\r\n",
        "  # si le choix du joueur est 'ciseaux' :\r\n",
        "  if choix_joueur == 'ciseaux':\r\n",
        "    choix = emoji.emojize(':v:', use_aliases=True)\r\n",
        "  # on affiche le choix du joueur\r\n",
        "  print(pseudo_joueur,\" a choisi de jouer \",choix,\".\")\r\n",
        "  ##########################################\r\n",
        "\r\n",
        "# Permet d'afficher le gagnant\r\n",
        "# choix_ordi    : choix de l'ordinateur (choix random)\r\n",
        "# choix_joueur  : choix du joueur\r\n",
        "# pseudo_joueur : pseudo donné au joueur (servira pour les affichages)\r\n",
        "def afficher_gagnant(choix_ordi,choix_joueur,pseudo_joueur):\r\n",
        "  if choix_ordi == choix_joueur :\r\n",
        "    print(\"L'ordi et \",pseudo_joueur,\"ont choisi le même signe. Il n'y a pas de gagnant !\")\r\n",
        "  else:\r\n",
        "    if choix_ordi == 'pierre' :\r\n",
        "      if choix_joueur == 'ciseaux':\r\n",
        "        print(\"L'ordi a gagné la partie car la \",choix_ordi,\" écrase les \",choix_joueur,\".\")\r\n",
        "      if choix_joueur == 'feuille':\r\n",
        "        print(pseudo_joueur,\" a gagné la partie car la \",choix_joueur,\" recouvre la  \",choix_ordi,\".\")\r\n",
        "    else: \r\n",
        "      if choix_ordi == 'feuille':\r\n",
        "        if choix_joueur == 'pierre':\r\n",
        "          print(\"L'ordi a gagné la partie car la  \",choix_ordi,\"  recouvre la \",choix_joueur,\".\")\r\n",
        "        if choix_joueur == 'ciseaux':\r\n",
        "          print(pseudo_joueur,\" a gagné la partie car les \",choix_joueur,\" coupent la \",choix_ordi,\".\")\r\n",
        "      else:\r\n",
        "        if choix_ordi == 'ciseaux':\r\n",
        "          if choix_joueur == 'pierre':\r\n",
        "            print(pseudo_joueur,\" a gagné la partie car la \",choix_joueur,\" écrase les \",choix_ordi,\".\")\r\n",
        "          if choix_joueur == 'feuille':\r\n",
        "            print(\"L'ordi a gagné la partie car les  \",choix_ordi,\"  coupent la \",choix_joueur,\".\")\r\n"
      ],
      "execution_count": null,
      "outputs": []
    },
    {
      "cell_type": "markdown",
      "metadata": {
        "id": "kaQoza1KHYRL"
      },
      "source": [
        "### **Déroulement du jeu**"
      ]
    },
    {
      "cell_type": "markdown",
      "metadata": {
        "id": "rDJS8RkcHcGI"
      },
      "source": [
        "Vous allez maintenant pouvoir compléter le déroulement du jeu en partie grâce aux fonctions que vous avez implémentées précédemment."
      ]
    },
    {
      "cell_type": "code",
      "metadata": {
        "id": "VR1wsV0vHsJt"
      },
      "source": [
        "###########A REMPLIR######################\r\n",
        "# le joueur choisi un signe\r\n",
        "choix_joueur = jouer()\r\n",
        "# l'ordi choisi un signe\r\n",
        "choix_ordi = coup_aleatoire()\r\n",
        "# on affiche le choix du jouer\r\n",
        "afficher_choix(Pseudo,choix_joueur)\r\n",
        "# on affiche le choix de l'ordi\r\n",
        "afficher_choix(\"Ordi\",choix_ordi)\r\n",
        "# on affiche le gagnant\r\n",
        "afficher_gagnant(choix_ordi,choix_joueur,Pseudo)\r\n",
        "##########################################"
      ],
      "execution_count": null,
      "outputs": []
    },
    {
      "cell_type": "markdown",
      "metadata": {
        "id": "7Gn4_Tm596Ry"
      },
      "source": [
        "# **Bonus : Le Morpion**"
      ]
    },
    {
      "cell_type": "markdown",
      "metadata": {
        "id": "vresdHFV5tnH"
      },
      "source": [
        "Dans cet exercice, vous allez devoir remplir des parties de code qui à terme vous permettrons de jouer avec notre super morpion interactif ! "
      ]
    },
    {
      "cell_type": "markdown",
      "metadata": {
        "id": "8Vhq7I30HYjw"
      },
      "source": [
        "## **Définition des pseudo des joueurs**"
      ]
    },
    {
      "cell_type": "markdown",
      "metadata": {
        "id": "f132r0kO5wcw"
      },
      "source": [
        "Tout d'abord nous allons définir les pseudo des joueurs afin de pouvoir avoir un petit affichage sympa."
      ]
    },
    {
      "cell_type": "code",
      "metadata": {
        "id": "0JuNFyNgH0D5"
      },
      "source": [
        "import random\n",
        "import re\n",
        "\n",
        "# Le pseudo du joueur 1 sera le prénom donné dans le formulaire plus haut. \n",
        "# Si vous n'avez pas rempli et exécuté la cellule de code dans la partie \"Vos Informations\" c'est le moment ;)\n",
        "pseudo_joueur1 = Prénom\n",
        "\n",
        "# Le pseudo du joueur 2 sera un pseudo tapé au clavier. \n",
        "pseudo_joueur2 = str(input(\"Saisissez le prénom/pseudo du joueur 2 : \\n\"))\n",
        "# Regardez bien l'utilisation des afin de définir si un mot est bien constitué que de lettres cela vous servira par la suite.\n",
        "while not(re.match('^[A-Z][a-z]+$',pseudo_joueur2)):\n",
        "  print(\"Le pseudo doit être une chaine de caractère sans caractères spéciaux et commencer par une majuscule.\")\n",
        "  # Le pseudo du joueur 2 sera un pseudo tapé au clavier. \n",
        "  pseudo_joueur2 = str(input(\"Saisissez le prénom/pseudo du joueur 2 : \\n\"))\n",
        "\n",
        "# tableau contenant les pseudo des joueurs\n",
        "joueur = [pseudo_joueur1,pseudo_joueur2]"
      ],
      "execution_count": null,
      "outputs": []
    },
    {
      "cell_type": "markdown",
      "metadata": {
        "id": "sRjmT1ydACeu"
      },
      "source": [
        "## **A votre tour !**\r\n",
        "\r\n"
      ]
    },
    {
      "cell_type": "markdown",
      "metadata": {
        "id": "decEn9FW5y-a"
      },
      "source": [
        "Entrons maintenant dans le vif du sujet ! "
      ]
    },
    {
      "cell_type": "markdown",
      "metadata": {
        "id": "ES7VAK5BzrPH"
      },
      "source": [
        "### **Quelques fonctions**\r\n",
        "\r\n"
      ]
    },
    {
      "cell_type": "markdown",
      "metadata": {
        "id": "Whjxa6q750V3"
      },
      "source": [
        "Vous allez devoir compléter les différentes fonctions que nous utiliserons par la suite dans notre super morpion !"
      ]
    },
    {
      "cell_type": "code",
      "metadata": {
        "id": "1QaHn3FLAaWA"
      },
      "source": [
        "# permet d'afficher le plateau\r\n",
        "def afficher_plateau(plateau):\r\n",
        "  affichage = '   _     _     _ \\n\\n'\r\n",
        "  for i in range(len(plateau)):\r\n",
        "    affichage = affichage+'|'\r\n",
        "    for j in range(len(plateau)):\r\n",
        "      affichage = affichage+'  '+plateau[i][j]+'  '\r\n",
        "      affichage = affichage+'|'\r\n",
        "    affichage = affichage+'\\n   _     _     _ \\n\\n'\r\n",
        "  print(affichage)\r\n",
        "  \r\n",
        "# on définit le numéro des cases de la manière suivante : \r\n",
        "# \r\n",
        "#  _   _   _ \r\n",
        "#\r\n",
        "#| 0 | 1 | 2 |\r\n",
        "#  _   _   _ \r\n",
        "#\r\n",
        "#| 3 | 4 | 5 |\r\n",
        "#  _   _   _ \r\n",
        "#\r\n",
        "#| 6 | 7 | 8 |\r\n",
        "#  _   _   _ \r\n",
        "\r\n",
        "def afficher_schema():\r\n",
        "  affichage = '   _     _     _ \\n\\n'\r\n",
        "  for i in range(len(plateau)):\r\n",
        "    affichage = affichage+'|'\r\n",
        "    for j in range(len(plateau)):\r\n",
        "      affichage = affichage+'  '+str(i*3+j)+'  '\r\n",
        "      affichage = affichage+'|'\r\n",
        "    affichage = affichage+'\\n   _     _     _ \\n\\n'\r\n",
        "  print(affichage)\r\n",
        "\r\n",
        "# on regarde si la case contient déjà un pion 'x' ou 'o'\r\n",
        "# vous devrez vérifier si la case du plateau portant \r\n",
        "# les numéros de lignes et de colonnes 'ligne' et 'colonne' contient la lettre o ou la lettre x\r\n",
        "# retourne vrai si la case est déjà jouée par un des joueurs, faux sinon\r\n",
        "def deja_jouer(plateau,ligne,colonne):\r\n",
        "  ###########A REMPLIR######################\r\n",
        "  if re.match('[ox]',plateau[ligne][colonne]):\r\n",
        "    return True\r\n",
        "  else:\r\n",
        "    return False\r\n",
        "  ##########################################\r\n",
        "\r\n",
        "# renvoie le numéro de la ligne de la case sur le plateau (les lignes vont de 0 à 2)\r\n",
        "# pour vous aider regarder bien les numéros des cases du plateau dans le commentaire précédent la fonction 'deja_jouer'.\r\n",
        "def ligne(case):\r\n",
        "  ###########A REMPLIR######################\r\n",
        "  if case >=0 and case < 3:\r\n",
        "    return 0\r\n",
        "  else:\r\n",
        "    if case < 6:\r\n",
        "      return 1\r\n",
        "    else:\r\n",
        "      return 2\r\n",
        "  ##########################################\r\n",
        "\r\n",
        "# renvoie le numéro de la colonne de la case sur le plateau (les colonnes vont de 0 à 2)\r\n",
        "# pour vous aider regarder bien les numéros des cases du plateau dans le commentaire précédent la fonction 'deja_jouer'.\r\n",
        "def colonne(case):\r\n",
        "  ###########A REMPLIR######################\r\n",
        "  if case >=0 and case < 3:\r\n",
        "    return case\r\n",
        "  else:\r\n",
        "    if case < 6:\r\n",
        "      return case-3\r\n",
        "    else:\r\n",
        "      return case-6\r\n",
        "  ##########################################\r\n",
        "\r\n",
        "# permet au joueur (par son numéro) en paramètre de jouer un pion dans la case en paramètre\r\n",
        "# renvoie faux si la case ne peut pas être jouée, sinon renvoie vrai\r\n",
        "# joueur aura soit la valeur 0 soit la valeur 1\r\n",
        "def jouer(plateau,joueur,case):\r\n",
        "  ###########A REMPLIR######################\r\n",
        "  #pour commencer, il faut vérifier si la case a déjà été jouée, si elle a déjà été jouée on renvoie faux\r\n",
        "  if deja_jouer(plateau,ligne(case),colonne(case)):\r\n",
        "    return False\r\n",
        "  # si la case n'a pas été jouée, on joue la case et on renvoie vrai\r\n",
        "  # pensez à ajouter un espace avant et après le 'o' ou le 'x' de cette façon ' o ' et ' x ' \r\n",
        "  # et à bien différencier les deux joueurs\r\n",
        "  else:\r\n",
        "    if joueur == 0:\r\n",
        "      plateau[ligne(case)][colonne(case)] = 'o'\r\n",
        "    else:\r\n",
        "      plateau[ligne(case)][colonne(case)] = 'x'\r\n",
        "    return True\r\n",
        "  ##########################################\r\n",
        "\r\n",
        "# changera le joueur courant si le joueur est le joueur 1 (0 ici) alors on fera joueur le joueur 2 (1 ici).\r\n",
        "def change_joueur(joueur_courant):\r\n",
        "  ###########A REMPLIR######################\r\n",
        "  if joueur_courant == 0:\r\n",
        "    joueur_courant = 1\r\n",
        "  else:\r\n",
        "    joueur_courant = 0\r\n",
        "  return int(joueur_courant)\r\n",
        "  ##########################################\r\n",
        "\r\n",
        "# retourne vrai s'il ne reste plus aucune case à jouer, sinon retourne faux\r\n",
        "# vérifie s'il reste des cases contenant un espace (' ')\r\n",
        "def parti_fini(plateau):\r\n",
        "  fini = True\r\n",
        "  ligne = 0\r\n",
        "  while fini and (ligne < 3):\r\n",
        "    colonne = 0\r\n",
        "    while fini and (colonne < 3):\r\n",
        "      if plateau[ligne][colonne] == ' ':\r\n",
        "        fini = False\r\n",
        "      colonne = colonne + 1\r\n",
        "    ligne = ligne +1\r\n",
        "  if fini :\r\n",
        "    print(\"La partie est terminée. Personne n'a gagné... Pas de chances ! xD\")\r\n",
        "  return fini\r\n",
        "\r\n",
        "\r\n",
        "# retourne vrai si le joueur a gagné la partie, sinon retourne faux\r\n",
        "# vérifie à partir de la dernière case jouée\r\n",
        "def parti_gagne(plateau,joueur,case):\r\n",
        "  gagne = False\r\n",
        "  if plateau[0][colonne(case)] == plateau[1][colonne(case)] and plateau[2][colonne(case)] == plateau[1][colonne(case)] :\r\n",
        "    gagne = True\r\n",
        "  if plateau[ligne(case)][0] == plateau[ligne(case)][1] and plateau[ligne(case)][2] == plateau[ligne(case)][1]:\r\n",
        "    gagne = True\r\n",
        "  if colonne(case) == ligne(case):\r\n",
        "    if plateau[0][0] == plateau[1][1] and plateau[1][1] == plateau[2][2]:\r\n",
        "      gagne = True\r\n",
        "  return gagne\r\n",
        "\r\n"
      ],
      "execution_count": null,
      "outputs": []
    },
    {
      "cell_type": "markdown",
      "metadata": {
        "id": "MnKIXmX6C2Js"
      },
      "source": [
        "### **Le jeu**\r\n",
        "\r\n"
      ]
    },
    {
      "cell_type": "markdown",
      "metadata": {
        "id": "hM1nBES253N6"
      },
      "source": [
        "Maintenant complètons le développement du jeu en utilisant les différentes fonctions codées précédemment."
      ]
    },
    {
      "cell_type": "code",
      "metadata": {
        "id": "Q3zQljS9DCWU"
      },
      "source": [
        "# Les variables !\r\n",
        "\r\n",
        "# Notre méga plateau de jeu !\r\n",
        "plateau = [[' ',' ',' '],[' ',' ',' '],[' ',' ',' ']]\r\n",
        "\r\n",
        "# on définit le joueur qui jouera en premier\r\n",
        "# on veut donc un entier entre 0 et la taille du tableau de pseudo -1 (car début à 0 et non à 1)\r\n",
        "# ainsi si plus tard vous souhaitez créer un morpion avec plus de joueur ça sera déjà adapté :-)\r\n",
        "joueur_courant = random.randint(0,len(joueur)-1)\r\n",
        "\r\n",
        "###########A REMPLIR######################\r\n",
        "# pour commencer on affiche le plateau de départ\r\n",
        "afficher_plateau(plateau)\r\n",
        "##########################################\r\n",
        "\r\n",
        "# on initialise une variable pour dire que la parti n'est pas gagnée\r\n",
        "gagne = False\r\n",
        "\r\n",
        "#déroulement de la partie\r\n",
        "while not(parti_fini(plateau)) and not(gagne):\r\n",
        "  # on affiche ensuite le pseudo du joueur dont c'est le tour\r\n",
        "  print(\"C'est le tour de \"+joueur[joueur_courant]+\".\")\r\n",
        "\r\n",
        "  ###########A REMPLIR######################\r\n",
        "  # on affiche le schéma des cases pour aider l'utilisateur à choisir\r\n",
        "  afficher_schema()\r\n",
        "  ##########################################\r\n",
        "\r\n",
        "  # on demande au joueur quelle case il souhaite jouer\r\n",
        "  case = int(input(\"Quelle case souhaitez-vous jouer ?\"))\r\n",
        "\r\n",
        "  ###########A REMPLIR######################\r\n",
        "  # on vérifie que case est bien une case entre 0 et 8\r\n",
        "  while not(re.match('[0-8]',str(case))):\r\n",
        "    print(\"La case correspond à un chiffre entre 0 et 8.\") \r\n",
        "    case = int(input(\"Quelle case souhaitez-vous jouer ?\"))\r\n",
        "  ##########################################\r\n",
        "\r\n",
        "  # on vérifie maintenant si la case a déjà été jouée\r\n",
        "  deja_joue = deja_jouer(plateau,ligne(case),colonne(case))\r\n",
        "  while deja_joue:\r\n",
        "    print(\"La case numéro \"+str(case)+\" a déjà été jouée.\")\r\n",
        "    case = int(input(\"Quelle case souhaitez-vous jouer ?\"))\r\n",
        "    # on vérifie que case est bien une case entre 0 et 8\r\n",
        "    while not(re.match('[0-8]',str(case))):\r\n",
        "      print(\"La case correspond à un chiffre entre 0 et 8.\") \r\n",
        "      case = int(input(\"Quelle case souhaitez-vous jouer ?\"))\r\n",
        "    deja_joue = deja_jouer(plateau,ligne(case),colonne(case))\r\n",
        "  \r\n",
        "  ###########A REMPLIR######################\r\n",
        "  # on joue la case donnée par le joueur\r\n",
        "  jouer(plateau,joueur_courant,case)\r\n",
        "  # on vérifie si le joueur a gagné ou non \r\n",
        "  if parti_gagne(plateau,joueur_courant,case):\r\n",
        "    print(\"Le joueur numéro \",joueur_courant,\"a gagné la partie ! Félicitations,\",joueur[joueur_courant])\r\n",
        "    gagne = True\r\n",
        "  ##########################################\r\n",
        "\r\n",
        "  ###########A REMPLIR######################\r\n",
        "  # on affiche à nouveau le plateau pour voir l'avancement\r\n",
        "  afficher_plateau(plateau)\r\n",
        "  ##########################################\r\n",
        "\r\n",
        "  ###########A REMPLIR######################\r\n",
        "  # on change de joueur\r\n",
        "  joueur_courant = change_joueur(joueur_courant)\r\n",
        "  ##########################################\r\n",
        "\r\n",
        "\r\n",
        "\r\n"
      ],
      "execution_count": null,
      "outputs": []
    },
    {
      "cell_type": "markdown",
      "metadata": {
        "id": "kjEOj7aKYLCR"
      },
      "source": [
        "# **Aides**"
      ]
    },
    {
      "cell_type": "markdown",
      "metadata": {
        "id": "LGVtvgeIaREF"
      },
      "source": [
        "## **Les chaînes de caractères**\r\n",
        "\r\n"
      ]
    },
    {
      "cell_type": "markdown",
      "metadata": {
        "id": "lBWSIltV55sr"
      },
      "source": [
        "Dans un premier temps, nous allons vous faire une petite démonstration de code en Python en réutilisant les données de votre formulaire.\r\n",
        "\r\n",
        "Vous pourrez voir comment manipuler les chaînes de caractère en Python."
      ]
    },
    {
      "cell_type": "code",
      "metadata": {
        "id": "fe8mLjtdEW1n"
      },
      "source": [
        "if (Futur_ou_future_IG == 'Oui'):\r\n",
        "  s = 'Je me nomme %s %s et je suis né(e) le %s . \\nJe suis actuellement en %s. \\nPlus tard, je souhaiterais intégrer la formation IG !' %(Prénom,Nom,Date_de_naissance,Classe)\r\n",
        "else:\r\n",
        "  if (Futur_ou_future_IG == 'Non'):\r\n",
        "    s = 'Je me nomme %s %s et je suis né(e) le %s . \\nJe suis actuellement en %s. \\nJe ne pense pas intégrer la formation IG mais je regarde quand même !' %(Prénom,Nom,Date_de_naissance,Classe)\r\n",
        "  else:\r\n",
        "    s = \"Je me nomme %s %s et je suis né(e) le %s . \\nJe suis actuellement en %s. \\nJe n'ai pas encore pris ma décision mais cette formation a l'air cool !\" %(Prénom,Nom,Date_de_naissance,Classe)\r\n",
        "print(s)"
      ],
      "execution_count": null,
      "outputs": []
    },
    {
      "cell_type": "markdown",
      "metadata": {
        "id": "FJnZ8MMBE3MA"
      },
      "source": [
        "## **Slider**\r\n",
        "\r\n"
      ]
    },
    {
      "cell_type": "markdown",
      "metadata": {
        "id": "ggKTngeS57hO"
      },
      "source": [
        "Voici un exemple d'utilisation de slider pour modifier les affichage. Vous allez devoir utiliser ce type d'affichage dans le premier exercice. Lisez bien les commentaires :D"
      ]
    },
    {
      "cell_type": "code",
      "metadata": {
        "id": "NDUJ-ZBkZ66V"
      },
      "source": [
        "''' Ceci est un exemple. \r\n",
        "    Il est inutile de modifier le contenu de cette cellule\r\n",
        "'''\r\n",
        "\r\n",
        "#on crée un slider afin de modifier dynamiquement la variable x\r\n",
        "@interact(x=(5, 50, 5))\r\n",
        "#la fonction suivante affichera le carré de x. \r\n",
        "def impression_carre(x=5):\r\n",
        "  print(f\"Le carré de {x:} est {x*x:}\")\r\n",
        "\r\n",
        "# on crée maintenant deux sliders afin de modifier dynamiquement \r\n",
        "# les variables p et q associées à la fonction \"operations\"\r\n",
        "@interact(p=(0, 10, 1), q=(1, 10, 1))\r\n",
        "# la fonction suivante affichera le résultat des quatre opération mathématiques de base :\r\n",
        "# - addition,\r\n",
        "# - soustraction,\r\n",
        "# - multiplication,\r\n",
        "# - division.\r\n",
        "def operations(p=0,q=0):\r\n",
        "  print('Le résultat de la somme de %d et %d est %d.' %(p, q, p+q))\r\n",
        "  print('Le résultat de la soustraction de %d par %d est %d.' %(p, q, p-q))\r\n",
        "  print('Le résultat de la multiplication de %d par %d donne %d.' %(p, q, p*q))\r\n",
        "  print('Le résultat de la division entière de %d par %d donne %d.' %(p, q, p/q))"
      ],
      "execution_count": null,
      "outputs": []
    },
    {
      "cell_type": "markdown",
      "metadata": {
        "id": "sNfFIBeXK-N0"
      },
      "source": [
        "## **Les boucles**"
      ]
    },
    {
      "cell_type": "markdown",
      "metadata": {
        "id": "n7iSp2lq59q6"
      },
      "source": [
        "Pour ces exercices, nous utiliserons deux types de boucles : les boucles ***for*** et les boucles ***while***. Pour rappel, les boucles ***for*** permettent de parcourir un tableau en entier, tandis que les boucles ***while*** ne parcourent le tableau jusqu'à ce que la condition de fin soit remplie. \r\n"
      ]
    },
    {
      "cell_type": "markdown",
      "metadata": {
        "id": "3xapUyS-0aAm"
      },
      "source": [
        "### **Boucle For**"
      ]
    },
    {
      "cell_type": "markdown",
      "metadata": {
        "id": "K_LkzsqS5_9D"
      },
      "source": [
        "Commençons par les boucles ***for*** :"
      ]
    },
    {
      "cell_type": "code",
      "metadata": {
        "id": "kGIHq0DhV01x"
      },
      "source": [
        "# boucle affichant les entiers allant de 1 (inclu) à 11 (exclu).\r\n",
        "for i in range(1,11,1) :\r\n",
        "  print('Le valeur de i est ',i)"
      ],
      "execution_count": null,
      "outputs": []
    },
    {
      "cell_type": "code",
      "metadata": {
        "id": "KxYxSuNsWVlZ"
      },
      "source": [
        "# boucle affichant les chiffres allant de 0 à 9\r\n",
        "# par défaut les indices commencent à 0 dans les tableaux et dans la fonction range\r\n",
        "for i in range(10) :\r\n",
        "  print('Le valeur de i est ',i)"
      ],
      "execution_count": null,
      "outputs": []
    }
  ]
}