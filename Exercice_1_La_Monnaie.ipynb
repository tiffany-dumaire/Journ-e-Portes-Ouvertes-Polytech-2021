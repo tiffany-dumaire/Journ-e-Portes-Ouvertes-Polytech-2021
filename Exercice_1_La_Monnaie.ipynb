{
  "nbformat": 4,
  "nbformat_minor": 0,
  "metadata": {
    "colab": {
      "name": "Exercice 1 : La Monnaie.ipynb",
      "provenance": [],
      "collapsed_sections": [],
      "include_colab_link": true
    },
    "kernelspec": {
      "name": "python3",
      "display_name": "Python 3"
    }
  },
  "cells": [
    {
      "cell_type": "markdown",
      "metadata": {
        "id": "view-in-github",
        "colab_type": "text"
      },
      "source": [
        "<a href=\"https://colab.research.google.com/github/tiffany-dumaire/Journ-e-Portes-Ouvertes-Polytech-2021/blob/main/Exercice_1_La_Monnaie.ipynb\" target=\"_parent\"><img src=\"https://colab.research.google.com/assets/colab-badge.svg\" alt=\"Open In Colab\"/></a>"
      ]
    },
    {
      "cell_type": "markdown",
      "metadata": {
        "id": "dBv2JtCTjpDy"
      },
      "source": [
        "# **Attention**\r\n",
        "\r\n",
        "**Pensez à bien exécuter toutes les cellules dès que votre code est implémenté ainsi que les cellules de code pré-remplies dans l'ordre (formulaire(s) inclus).**"
      ]
    },
    {
      "cell_type": "markdown",
      "metadata": {
        "id": "Ow3upsVTYpUK"
      },
      "source": [
        "# **Vos Informations**"
      ]
    },
    {
      "cell_type": "markdown",
      "metadata": {
        "id": "SuMM79Qa6PDR"
      },
      "source": [
        "Dans un premier temps, vous allez devoir remplir le formulaire avec vos informations. Vous aurez le choix de le garder anonyme ou de renvoyer l'exercice finalisé à l'adresse mail suivante : \r\n",
        "<adresse_speciale_jpo?oui|non> afin d'obtenir une correction ou d'en discuter."
      ]
    },
    {
      "cell_type": "code",
      "metadata": {
        "id": "_dRmGbRJRveV",
        "cellView": "form"
      },
      "source": [
        "#@markdown Remplissez ce formulaire avec vos informations et renvoyez le fichier par mail si vous souhaitez obtenir une correction de la part des étudiants d'IG ;)\r\n",
        "Nom = ''  #@param {type: \"string\"}\r\n",
        "Prénom = ''  #@param {type: \"string\"}\r\n",
        "Date_de_naissance = '2003-07-05'  #@param {type: \"date\"}\r\n",
        "Classe = \"Terminale\"  #@param ['Première','Terminale', 'Bac +1', 'Bac +2', 'Bac +3','Autre']\r\n",
        "Futur_ou_future_IG = \"Oui\"  #@param ['Oui','Non', 'Je ne sais pas']\r\n"
      ],
      "execution_count": null,
      "outputs": []
    },
    {
      "cell_type": "markdown",
      "metadata": {
        "id": "r0X1tbVJGuE-"
      },
      "source": [
        "# **Objectif**"
      ]
    },
    {
      "cell_type": "markdown",
      "metadata": {
        "id": "veD8BN6aIF-c"
      },
      "source": [
        "Le but des exercices qui suivront est de vous donner un avant goût de ce que vous pourrez faire en IG sans pour autant vous demandez de coder un projet maintenant. Ici, le code sera en *Python* mais durant votre formation, vous coderez aussi bien en *Python qu'en Java, Javascript, Assembleur, R*, etc...\r\n",
        "\r\n",
        "\r\n",
        "---\r\n",
        "\r\n",
        "Après les exercices vous pourrez trouver des aides pour les réaliser plus facilement ! Si vous avez un problème n'hésitez pas à nous le demander sur le vocal :) \r\n"
      ]
    },
    {
      "cell_type": "markdown",
      "metadata": {
        "id": "_jhV0UTnLOZK"
      },
      "source": [
        "# **Exercice 1 : La Monnaie**"
      ]
    },
    {
      "cell_type": "markdown",
      "metadata": {
        "id": "6dP4Ukev5kTb"
      },
      "source": [
        "Dans cet exercice, vous allez devoir compléter une fonction permettant à un commerçant de faire son choix de pièces au plus vite pour rendre la monnaie."
      ]
    },
    {
      "cell_type": "markdown",
      "metadata": {
        "id": "n3_i8uGfzfWT"
      },
      "source": [
        "### **Partie 1 : Le plus petit nombre de pièces**\r\n"
      ]
    },
    {
      "cell_type": "markdown",
      "metadata": {
        "id": "JwUVdxPn5nt8"
      },
      "source": [
        "Pour commencer, vous allez compléter la fonction de façon à ce que le commerçant puisse rendre le moins de pièces possibles sachant qu'il ne peut rendre que des pièces de 5, 10, 20 et 50 centimes. "
      ]
    },
    {
      "cell_type": "code",
      "metadata": {
        "id": "ie4JOnL_bgvV"
      },
      "source": [
        "from ipywidgets import interact, widgets, IntSlider\r\n",
        "\r\n",
        "# Fonction permettant de calculer le nombre de pièces de 5, de 10, de 20 et de 50 centimes en fonction de \r\n",
        "# la monnaie à rendre (entre 0 et 1000)\r\n",
        "@interact(monnaie = widgets.IntSlider(value=500, description='Indiquer la monnaie à rendre :', max=1000, min=0,step=5))\r\n",
        "def rendreMonnaie(monnaie):\r\n",
        "  #s'il n'y a pas de monnaie à rendre le vendeur dit au revoir au client\r\n",
        "  if monnaie == 0 :\r\n",
        "    print('Au revoir, passez une agréable journée !')\r\n",
        "  #sinon\r\n",
        "  else:\r\n",
        "     # nombre de pièces rendus pour chaque type de pièces !\r\n",
        "      # nombre de pièces de 5 centimes qui seront rendues\r\n",
        "      pr5 = 0\r\n",
        "      # nombre de pièces de 10 centimes qui seront rendues\r\n",
        "      pr10 = 0\r\n",
        "      # nombre de pièces de 20 centimes qui seront rendues\r\n",
        "      pr20 = 0\r\n",
        "      # nombre de pièces de 50 centimes qui seront rendues\r\n",
        "      pr50 = 0\r\n",
        "      # monnaie restante à rendre\r\n",
        "      reste = monnaie\r\n",
        "      # Rédiger ici la portion de code qui définit la monnaie que le vendeur a à rendre au client pièce par pièce en utilisant le moins de pièce possible (sans se servir des paramètres p5, p10, p20 et p50) !\r\n",
        "      ###########A REMPLIR######################\r\n",
        "      while reste >= 50 :\r\n",
        "        pr50 = \r\n",
        "        reste = \r\n",
        "      while reste >= 20 :\r\n",
        "        pr20 = \r\n",
        "        reste = \r\n",
        "      while reste >= 10 : \r\n",
        "        pr10 = \r\n",
        "        reste = \r\n",
        "      while reste >= 5 :\r\n",
        "        pr5 = \r\n",
        "        reste = \r\n",
        "      ##########################################\r\n",
        "      # on affiche la monnaie rendue par le commerçant au client\r\n",
        "      print('Voici votre monnaie : \\n- Nombre de pièces de 5 cents : %d \\n- Nombre de pièces de 10 cents : %d \\n- Nombre de pièces de 20 cents : %d \\n- Nombre de pièces de 50 cents : %d'%(pr5,pr10,pr20,pr50))\r\n",
        "\r\n"
      ],
      "execution_count": null,
      "outputs": []
    },
    {
      "cell_type": "markdown",
      "metadata": {
        "id": "S7xTb_mX09sV"
      },
      "source": [
        "### **Partie 2 : Contrainte du contenu de la caisse**"
      ]
    },
    {
      "cell_type": "markdown",
      "metadata": {
        "id": "4UuuuhpX5qcw"
      },
      "source": [
        "Dorénavant, vous allez vous allez compléter la fonction de façon à ce que le commerçant puisse rendre le moins de pièces possibles sachant qu'il ne peut rendre que des pièces de 5, 10, 20 et 50 centimes. Cependant, le commerçant en question aura un nombre limité de pièces dans la caisse. Il faudra donc prendre en compte les nombres de pièces de 5, de 10, de 20 et de 50 centimes contenues dans la caisse du commerçant avant de définir le nombre de pièces à rendre."
      ]
    },
    {
      "cell_type": "code",
      "metadata": {
        "id": "H3Okza1EtXVV"
      },
      "source": [
        "from ipywidgets import interact, widgets, IntSlider\r\n",
        "\r\n",
        "# Fonction permettant de calculer le nombre de pièces de 5, de 10, de 20 et de 50 centimes en fonction de \r\n",
        "# la monnaie à rendre (entre 0 et 1000) mais aussi en fonction du nombre de pièce de 5 centimes (entre 0 et 10),\r\n",
        "# du nombre de pièces de 10 centimes (entre 0 et 10), du nombre de pièces de 20 centimes (entre 0 et 10) \r\n",
        "# et du nombre de pièce de 50 centimes (entre 0 et 13)\r\n",
        "@interact(monnaie = widgets.IntSlider(value=500, description='Indiquer la monnaie à rendre :', max=1000, min=0,step=5), p5=widgets.IntSlider(value=5, description='Pièces de 5 centimes :', max=10, min=0,step=1),p10=widgets.IntSlider(value=5, description='Pièces de 10 centimes :', max=10, min=0,step=1),p20=widgets.IntSlider(value=5, description='Pièces de 20 centimes :', max=10, min=0,step=1),p50=widgets.IntSlider(value=5, description='Pièces de 50 centimes :', max=13, min=0,step=1))\r\n",
        "def rendreMonnaie(monnaie,p5,p10,p20,p50):\r\n",
        "  #s'il n'y a pas de monnaie à rendre, le vendeur est content et dit au revoir à son client\r\n",
        "  if monnaie == 0 :\r\n",
        "    print('Au revoir, passez une agréable journée !')\r\n",
        "  #sinon\r\n",
        "  else:\r\n",
        "    # on vérifie que le nombre de pièces contenues dans la casse suffira à pouvoir rendre la monnaie\r\n",
        "    if monnaie <= (p50*50+p20*20+p10*10+p5*5):\r\n",
        "      # nombre de pièces rendus pour chaque type de pièces !\r\n",
        "      # nombre de pièces de 5 centimes qui seront rendues\r\n",
        "      pr5 = 0\r\n",
        "      # nombre de pièces de 10 centimes qui seront rendues\r\n",
        "      pr10 = 0\r\n",
        "      # nombre de pièces de 20 centimes qui seront rendues\r\n",
        "      pr20 = 0\r\n",
        "      # nombre de pièces de 50 centimes qui seront rendues\r\n",
        "      pr50 = 0\r\n",
        "      # monnaie restante à rendre\r\n",
        "      reste = monnaie\r\n",
        "      # Rédiger ici la portion de code qui définit la monnaie que le vendeur a à rendre au client pièce par pièce en utilisant le moins de pièce possible (sans se servir des paramètres p5, p10, p20 et p50) !\r\n",
        "      ###########A REMPLIR######################\r\n",
        "      # On commence par le nombre de pièces de 50 centimes\r\n",
        "      while (p50 > 0) and (reste >= 50) : \r\n",
        "        pr50 =\r\n",
        "        reste =\r\n",
        "        p50 = \r\n",
        "      # on fait la même chose pour le nombre de pièce de 20 centimes\r\n",
        "      while (p20 > 0) and (reste >= 20) :\r\n",
        "        pr20 = \r\n",
        "        reste = \r\n",
        "        p20 = \r\n",
        "      # on fait la même chose pour le nombre de pièce de 10 centimes\r\n",
        "      while (p10 > 0) and (reste >= 10) : \r\n",
        "        pr10 = \r\n",
        "        reste = \r\n",
        "        p10 = \r\n",
        "      # rédiger complètement le code pour les pièces de 5 centimes\r\n",
        "      \r\n",
        "      \r\n",
        "\r\n",
        "\r\n",
        "      ##########################################\r\n",
        "      # on affiche la monnaie rendue par le commerçant au client\r\n",
        "      print('Voici votre monnaie : \\n- Nombre de pièces de 5 cents : %d \\n- Nombre de pièces de 10 cents : %d \\n- Nombre de pièces de 20 cents : %d \\n- Nombre de pièces de 50 cents : %d'%(pr5,pr10,pr20,pr50))\r\n",
        "    # si le nombre de pièce est insuffisant pour rendre la monnaie au client\r\n",
        "    else:\r\n",
        "      # le commerçant prévient qu'il va chercher de la monnaie\r\n",
        "      print(\"Je suis désolé mais je n'ai pas assez de monnaie dans la caisse, je vais en chercher....\")"
      ],
      "execution_count": null,
      "outputs": []
    }
  ]
}