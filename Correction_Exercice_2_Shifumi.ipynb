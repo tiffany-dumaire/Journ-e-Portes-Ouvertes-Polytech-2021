{
  "nbformat": 4,
  "nbformat_minor": 0,
  "metadata": {
    "colab": {
      "name": "Correction - Exercice 2 : Shifumi.ipynb",
      "provenance": [],
      "collapsed_sections": [],
      "include_colab_link": true
    },
    "kernelspec": {
      "name": "python3",
      "display_name": "Python 3"
    }
  },
  "cells": [
    {
      "cell_type": "markdown",
      "metadata": {
        "id": "view-in-github",
        "colab_type": "text"
      },
      "source": [
        "<a href=\"https://colab.research.google.com/github/tiffany-dumaire/Journ-e-Portes-Ouvertes-Polytech-2021/blob/main/Correction_Exercice_2_Shifumi.ipynb\" target=\"_parent\"><img src=\"https://colab.research.google.com/assets/colab-badge.svg\" alt=\"Open In Colab\"/></a>"
      ]
    },
    {
      "cell_type": "markdown",
      "metadata": {
        "id": "2FeAxZ20kGsd"
      },
      "source": [
        "# **Attention**\r\n",
        "\r\n",
        "**Pensez à bien exécuter toutes les cellules dès que votre code est implémenté ainsi que les cellules de code pré-remplies dans l'ordre (formulaire(s) inclus).**"
      ]
    },
    {
      "cell_type": "markdown",
      "metadata": {
        "id": "Ow3upsVTYpUK"
      },
      "source": [
        "# **Vos Informations**"
      ]
    },
    {
      "cell_type": "markdown",
      "metadata": {
        "id": "SuMM79Qa6PDR"
      },
      "source": [
        "Dans un premier temps, vous allez devoir remplir le formulaire avec vos informations. Vous aurez le choix de le garder anonyme ou de renvoyer l'exercice finalisé à l'adresse mail suivante : \r\n",
        "<adresse_speciale_jpo?oui|non> afin d'obtenir une correction ou d'en discuter."
      ]
    },
    {
      "cell_type": "code",
      "metadata": {
        "id": "_dRmGbRJRveV",
        "cellView": "form"
      },
      "source": [
        "#@markdown Remplissez ce formulaire avec vos informations et renvoyer le fichier par mail si vous souhaitez obtenir une correction de la part des étudiants d'IG ;)\r\n",
        "Nom = ''  #@param {type: \"string\"}\r\n",
        "Prénom = ''  #@param {type: \"string\"}\r\n",
        "Date_de_naissance = '2003-07-05'  #@param {type: \"date\"}\r\n",
        "Classe = \"Terminale\"  #@param ['Première','Terminale', 'Bac +1', 'Bac +2', 'Bac +3','Autre']\r\n",
        "Futur_ou_future_IG = \"Oui\"  #@param ['Oui','Non', 'Je ne sais pas']\r\n"
      ],
      "execution_count": null,
      "outputs": []
    },
    {
      "cell_type": "markdown",
      "metadata": {
        "id": "EjCrw866DFCS"
      },
      "source": [
        "# **Exercice 2 : Le Shifumi**"
      ]
    },
    {
      "cell_type": "markdown",
      "metadata": {
        "id": "UQzB4krDDojZ"
      },
      "source": [
        "Nous allons maintenant implémenter le jeu nommé ***Shifumi***, plus courramment appelé ***Pierre-Feuille-Ciseaux***. \r\n",
        "\r\n",
        "Le **Shifumi** est un jeu à deux joueurs. \r\n",
        "\r\n"
      ]
    },
    {
      "cell_type": "markdown",
      "metadata": {
        "id": "cyvAWFUXFzyB"
      },
      "source": [
        "## **Affichage des emojis**"
      ]
    },
    {
      "cell_type": "markdown",
      "metadata": {
        "id": "9zVb76HpF6BY"
      },
      "source": [
        "Nous allons installer la librairie permettant d'afficher les émojis en Python. "
      ]
    },
    {
      "cell_type": "code",
      "metadata": {
        "id": "PuI4BV5YBp7t"
      },
      "source": [
        "# Pour commencer on installe le module emoji afin d'afficher des emojis !\r\n",
        "!pip install emoji"
      ],
      "execution_count": null,
      "outputs": []
    },
    {
      "cell_type": "markdown",
      "metadata": {
        "id": "VKSGUw8GGE9j"
      },
      "source": [
        "Maintenant nous allons vous montrer comment afficher les smileys qui vous seront utiles dans le cadre de ce jeu !"
      ]
    },
    {
      "cell_type": "code",
      "metadata": {
        "id": "hVEQ11-Q_IqS"
      },
      "source": [
        "# on importe la librairie qui permet d'afficher les émojis\r\n",
        "import emoji\r\n",
        "\r\n",
        "# affichage du ciseau\r\n",
        "print(emoji.emojize('Voici le ciseau : :scissors: ou :v:', use_aliases=True))\r\n",
        "# affichage du papier\r\n",
        "print(emoji.emojize('Voici le papier : :page_with_curl: ou :raised_hand:',use_aliases=True))\r\n",
        "# affichage de la pierre\r\n",
        "print(emoji.emojize('Voici la pierre : :moyai: ou :punch:',use_aliases=True))"
      ],
      "execution_count": null,
      "outputs": []
    },
    {
      "cell_type": "markdown",
      "metadata": {
        "id": "hIcuL8PbGgDD"
      },
      "source": [
        "## **Version 1 : A votre tour**"
      ]
    },
    {
      "cell_type": "markdown",
      "metadata": {
        "id": "3R_udD69G9Cy"
      },
      "source": [
        "Comme pour l'exercice précédent, vous allez maintenant devoir compléter le code afin de pouvoir jouer au morpion !"
      ]
    },
    {
      "cell_type": "markdown",
      "metadata": {
        "id": "OGU9QklbH0UN"
      },
      "source": [
        "### **Le joueur**"
      ]
    },
    {
      "cell_type": "markdown",
      "metadata": {
        "id": "Qzb6ehfXH5U3"
      },
      "source": [
        "Avant de commencer, nous allons définir le pseudo du joueur. Le second joueur sera la machine qui choisira un signe aléatoirement."
      ]
    },
    {
      "cell_type": "code",
      "metadata": {
        "cellView": "form",
        "id": "gtiT4-3XIJKM"
      },
      "source": [
        "#@markdown Remplissez ce formulaire afin de définir votre pseudo !\r\n",
        "Pseudo = 'Test'  #@param {type: \"string\"}"
      ],
      "execution_count": null,
      "outputs": []
    },
    {
      "cell_type": "markdown",
      "metadata": {
        "id": "zDaygyOyHIfE"
      },
      "source": [
        "### **Quelques fonctions utiles**"
      ]
    },
    {
      "cell_type": "markdown",
      "metadata": {
        "id": "SmXeteqqHOFE"
      },
      "source": [
        "Nous allons commencer par implémenter un ensemble de fonctions qui vous serviront par la suite dans le déroulement du jeu."
      ]
    },
    {
      "cell_type": "code",
      "metadata": {
        "id": "x7xIfn0dG8NI"
      },
      "source": [
        "# Librairies\r\n",
        "import random\r\n",
        "import re\r\n",
        "\r\n",
        "# A l'aide de cette méthode, on demande au joueur le signe qu'il souhaite jouer\r\n",
        "def jouer():\r\n",
        "  ###########A REMPLIR######################\r\n",
        "  # On demande au joueur le coup qu'il souhaite jouer, pensez à préciser \r\n",
        "  # qu'il faut écrire 'ciseaux', 'feuille', ou 'pierre'\r\n",
        "  coup = str(input(\"Quel signe souhaitez-vous jouer ? (pierre, feuille ou ciseaux)\"))\r\n",
        "  # On redemande tant que le coup n'existe pas\r\n",
        "  while not(re.match('ciseaux|pierre|feuille',coup)):\r\n",
        "    # on affiche un message d'erreur (dire que ça n'est pas un signe ou que ça n'était pas un choix proposé)\r\n",
        "    print(\"La saisi ne correspond à aucun signe existant dans notre jeu. Veuillez réessayer.\")\r\n",
        "    # en entrée, on demande au joueur le coup qu'il souhaite jouer, pensez à préciser \r\n",
        "    # qu'il faut écrire 'ciseaux', 'feuille', ou 'pierre'\r\n",
        "    coup = str(input(\"Quel signe souhaitez-vous jouer ? (pierre, feuille ou ciseaux)\"))\r\n",
        "  # on retourne le coup choisi par le joueur\r\n",
        "  return coup\r\n",
        "  ##########################################\r\n",
        "\r\n",
        "# A l'aide de cette méthode, on définit le coup aléatoire choisi par la machine\r\n",
        "def coup_aleatoire():\r\n",
        "  # tableaux contenant les signes qui peuvent être choisis\r\n",
        "  signes = ['pierre','feuille', 'ciseaux']\r\n",
        "  ###########A REMPLIR######################\r\n",
        "  # renvoyer un signe au hasard\r\n",
        "  return random.choice(signes)\r\n",
        "  ##########################################\r\n",
        "\r\n",
        "# Permet d'afficher le choix du joueur en paramètre.\r\n",
        "# pseudo_joueur : correspond au Pseudo du joueur ou a 'ordi'\r\n",
        "# choix_joueur  : correspond au choix du joueur ou au choix de l'ordi\r\n",
        "def afficher_choix(pseudo_joueur,choix_joueur):\r\n",
        "  # on affiche le signe que le joueur en paramètre a choisi de jouer\r\n",
        "  choix = ''\r\n",
        "  ###########A REMPLIR######################\r\n",
        "  # si le choix est 'pierre' on renvoie l'emoji pierre:\r\n",
        "  if choix_joueur == 'pierre':\r\n",
        "    choix = emoji.emojize(':moyai:', use_aliases=True)\r\n",
        "  # si le choix est 'feuille' on renvoie l'emoji feuille:\r\n",
        "  if choix_joueur == 'feuille':\r\n",
        "    choix = emoji.emojize(':page_with_curl:', use_aliases=True)\r\n",
        "  # si le choix du joueur est 'ciseaux' on renvoie l'emoji ciseaux:\r\n",
        "  if choix_joueur == 'ciseaux':\r\n",
        "    choix = emoji.emojize(':scissors:', use_aliases=True)\r\n",
        "  # on affiche le choix du joueur\r\n",
        "  print(pseudo_joueur,\" a choisi de jouer \",choix,\".\")\r\n",
        "  ##########################################\r\n",
        "\r\n",
        "# Permet d'afficher le gagnant\r\n",
        "# choix_ordi    : choix de l'ordinateur (choix random)\r\n",
        "# choix_joueur  : choix du joueur\r\n",
        "# pseudo_joueur : pseudo donné au joueur (servira pour les affichages)\r\n",
        "def afficher_gagnant(choix_ordi,choix_joueur,pseudo_joueur):\r\n",
        "  if choix_ordi == choix_joueur :\r\n",
        "    print(\"L'ordi et \",pseudo_joueur,\"ont choisi le même signe. Il n'y a pas de gagnant !\")\r\n",
        "  else:\r\n",
        "    if choix_ordi == 'pierre' :\r\n",
        "      if choix_joueur == 'ciseaux':\r\n",
        "        print(\"L'ordi a gagné la partie car la \",choix_ordi,\" écrase les \",choix_joueur,\".\")\r\n",
        "      if choix_joueur == 'feuille':\r\n",
        "        print(pseudo_joueur,\" a gagné la partie car la \",choix_joueur,\" recouvre la  \",choix_ordi,\".\")\r\n",
        "    else: \r\n",
        "      if choix_ordi == 'feuille':\r\n",
        "        if choix_joueur == 'pierre':\r\n",
        "          print(\"L'ordi a gagné la partie car la  \",choix_ordi,\"  recouvre la \",choix_joueur,\".\")\r\n",
        "        if choix_joueur == 'ciseaux':\r\n",
        "          print(pseudo_joueur,\" a gagné la partie car les \",choix_joueur,\" coupent la \",choix_ordi,\".\")\r\n",
        "      else:\r\n",
        "        if choix_ordi == 'ciseaux':\r\n",
        "          if choix_joueur == 'pierre':\r\n",
        "            print(pseudo_joueur,\" a gagné la partie car la \",choix_joueur,\" écrase les \",choix_ordi,\".\")\r\n",
        "          if choix_joueur == 'feuille':\r\n",
        "            print(\"L'ordi a gagné la partie car les  \",choix_ordi,\"  coupent la \",choix_joueur,\".\")\r\n"
      ],
      "execution_count": null,
      "outputs": []
    },
    {
      "cell_type": "markdown",
      "metadata": {
        "id": "kaQoza1KHYRL"
      },
      "source": [
        "### **Déroulement du jeu**"
      ]
    },
    {
      "cell_type": "markdown",
      "metadata": {
        "id": "rDJS8RkcHcGI"
      },
      "source": [
        "Vous allez maintenant pouvoir compléter le déroulement du jeu en partie grâce aux fonctions que vous avez implémentées précédemment."
      ]
    },
    {
      "cell_type": "code",
      "metadata": {
        "id": "VR1wsV0vHsJt"
      },
      "source": [
        "###########A REMPLIR######################\r\n",
        "# le joueur choisi un signe\r\n",
        "choix_joueur = jouer()\r\n",
        "# l'ordi choisi un signe\r\n",
        "choix_ordi = coup_aleatoire()\r\n",
        "# on affiche le choix du jouer\r\n",
        "afficher_choix(Pseudo,choix_joueur)\r\n",
        "# on affiche le choix de l'ordi\r\n",
        "afficher_choix(\"Ordi\",choix_ordi)\r\n",
        "# on affiche le gagnant\r\n",
        "afficher_gagnant(choix_ordi,choix_joueur,Pseudo)\r\n",
        "##########################################"
      ],
      "execution_count": null,
      "outputs": []
    },
    {
      "cell_type": "markdown",
      "metadata": {
        "id": "dIDRKXURSuYt"
      },
      "source": [
        "## **Version 2 : Bonus**"
      ]
    },
    {
      "cell_type": "markdown",
      "metadata": {
        "id": "J2wwexe4Swpd"
      },
      "source": [
        "Dans cette seconde version nous allons utiliser les dictionnaires (voir Fiches d'aides ou demander aux étudiants présents si ça semble compliqué mais que vous souhaitez tout de même tenter le coup ;) )"
      ]
    },
    {
      "cell_type": "code",
      "metadata": {
        "id": "Mu-6jYxWTAD-"
      },
      "source": [
        "import random\r\n",
        "import emoji\r\n",
        "\r\n",
        "# dans un premier temps voici notre tableau de signes\r\n",
        "signes = ['ciseaux','feuille','papier']\r\n",
        "# voici le dictionnaire qui nous permettra de déterminer qui gagne contre qui\r\n",
        "gagne = { 'ciseaux':'feuille', 'papier':'ciseaux', 'feuille':'papier'}\r\n",
        "# voici les smileys associés aux différents signes\r\n",
        "smiley = { 'ciseaux':':scissors:', 'pierre':':punch:','feuille':':page_with_curl:'}\r\n",
        "\r\n",
        "###########A REMPLIR######################\r\n",
        "# D'abord, vous devrez demandez à l'utilisateur de choisir le signe qu'il souhaite jouer, précisez bien parmi pierre feuille ou ciseaux \r\n",
        "# (sans vérification alors écrivez bien pendant le test :p)\r\n",
        "choix = input(\"Choisissez un signe parmi les suivant 'pierre' , 'feuille' ou 'ciseaux' :\")\r\n",
        "# vous utiliserez random afin de définir aléatoirement un signe choisi par ordi\r\n",
        "ordi = random.choice(signes)\r\n",
        "##########################################\r\n",
        "\r\n",
        "# On affiche les choix de chacun des joueurs.\r\n",
        "print(emoji.emojize(\"ordi \"+smiley[ordi]+\"  - vous \"+smiley[choix],use_aliases=True))\r\n",
        "# si les choix des joueurs sont identiques alors c'est une égalité\r\n",
        "if ordi == choix:\r\n",
        "    print('égalité')\r\n",
        "# sinon on regarde le choix de l'ordi par rapport à notre choix\r\n",
        "elif ordi in gagne[choix]: \r\n",
        "    print('vous gagnez')\r\n",
        "else:\r\n",
        "    print('vous perdez')"
      ],
      "execution_count": null,
      "outputs": []
    },
    {
      "cell_type": "markdown",
      "metadata": {
        "id": "DgxkIxCBUQ-B"
      },
      "source": [
        "Félicitations ! Vous devenez des experts en remplissage de code Python ;) continuez comme ça !"
      ]
    }
  ]
}