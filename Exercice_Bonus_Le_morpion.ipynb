{
  "nbformat": 4,
  "nbformat_minor": 0,
  "metadata": {
    "colab": {
      "name": "Exercice Bonus : Le morpion.ipynb",
      "provenance": [],
      "collapsed_sections": [],
      "include_colab_link": true
    },
    "kernelspec": {
      "name": "python3",
      "display_name": "Python 3"
    }
  },
  "cells": [
    {
      "cell_type": "markdown",
      "metadata": {
        "id": "view-in-github",
        "colab_type": "text"
      },
      "source": [
        "<a href=\"https://colab.research.google.com/github/tiffany-dumaire/Journ-e-Portes-Ouvertes-Polytech-2021/blob/main/Exercice_Bonus_Le_morpion.ipynb\" target=\"_parent\"><img src=\"https://colab.research.google.com/assets/colab-badge.svg\" alt=\"Open In Colab\"/></a>"
      ]
    },
    {
      "cell_type": "markdown",
      "metadata": {
        "id": "Ow3upsVTYpUK"
      },
      "source": [
        "# **Vos Informations**"
      ]
    },
    {
      "cell_type": "markdown",
      "metadata": {
        "id": "SuMM79Qa6PDR"
      },
      "source": [
        "Dans un premier temps, vous allez devoir remplir le formulaire avec vos informations. Vous aurez le choix de le garder anonyme ou de renvoyer l'exercice finalisée à l'adresse mail suivante : \r\n",
        "<adresse_speciale_jpo?oui|non> afin d'obtenir une correction ou d'en discuter."
      ]
    },
    {
      "cell_type": "code",
      "metadata": {
        "id": "_dRmGbRJRveV",
        "cellView": "form"
      },
      "source": [
        "#@markdown Remplissez ce formulaire avec vos informations et renvoyer le fichier par mail si vous souhaitez obtenir une correction de la part des étudiants d'IG ;)\r\n",
        "Nom = ''  #@param {type: \"string\"}\r\n",
        "Prénom = ''  #@param {type: \"string\"}\r\n",
        "Date_de_naissance = '2003-07-05'  #@param {type: \"date\"}\r\n",
        "Classe = \"Terminale\"  #@param ['Première','Terminale', 'Bac +1', 'Bac +2', 'Bac +3','Autre']\r\n",
        "Futur_ou_future_IG = \"Oui\"  #@param ['Oui','Non', 'Je ne sais pas']\r\n"
      ],
      "execution_count": null,
      "outputs": []
    },
    {
      "cell_type": "markdown",
      "metadata": {
        "id": "7Gn4_Tm596Ry"
      },
      "source": [
        "# **Bonus : Le Morpion**"
      ]
    },
    {
      "cell_type": "markdown",
      "metadata": {
        "id": "vresdHFV5tnH"
      },
      "source": [
        "Dans cet exercice, vous allez devoir remplir des parties de code qui à terme vous permettrons de jouer avec notre super morpion interactif ! "
      ]
    },
    {
      "cell_type": "markdown",
      "metadata": {
        "id": "8Vhq7I30HYjw"
      },
      "source": [
        "## **Définition des pseudo des joueurs**"
      ]
    },
    {
      "cell_type": "markdown",
      "metadata": {
        "id": "f132r0kO5wcw"
      },
      "source": [
        "Tout d'abord nous allons définir les pseudo des joueurs afin de pouvoir avoir un petit affichage sympa."
      ]
    },
    {
      "cell_type": "code",
      "metadata": {
        "id": "0JuNFyNgH0D5"
      },
      "source": [
        "import random\n",
        "import re\n",
        "\n",
        "# Le pseudo du joueur 1 sera le prénom donné dans le formulaire plus haut. \n",
        "# Si vous n'avez pas rempli et exécuté la cellule de code dans la partie \"Vos Informations\" c'est le moment ;)\n",
        "pseudo_joueur1 = Prénom\n",
        "\n",
        "# Le pseudo du joueur 2 sera un pseudo tapé au clavier. \n",
        "pseudo_joueur2 = str(input(\"Saisissez le prénom/pseudo du joueur 2 : \\n\"))\n",
        "# Regardez bien l'utilisation des afin de définir si un mot est bien constitué que de lettres cela vous servira par la suite.\n",
        "while not(re.match('^[A-Z][a-z]+$',pseudo_joueur2)):\n",
        "  print(\"Le pseudo doit être une chaine de caractère sans caractères spéciaux et commencer par une majuscule.\")\n",
        "  # Le pseudo du joueur 2 sera un pseudo tapé au clavier. \n",
        "  pseudo_joueur2 = str(input(\"Saisissez le prénom/pseudo du joueur 2 : \\n\"))\n",
        "\n",
        "# tableau contenant les pseudo des joueurs\n",
        "joueur = [pseudo_joueur1,pseudo_joueur2]"
      ],
      "execution_count": null,
      "outputs": []
    },
    {
      "cell_type": "markdown",
      "metadata": {
        "id": "sRjmT1ydACeu"
      },
      "source": [
        "## **A votre tour !**\r\n",
        "\r\n"
      ]
    },
    {
      "cell_type": "markdown",
      "metadata": {
        "id": "decEn9FW5y-a"
      },
      "source": [
        "Entrons maintenant dans le vif du sujet ! "
      ]
    },
    {
      "cell_type": "markdown",
      "metadata": {
        "id": "ES7VAK5BzrPH"
      },
      "source": [
        "### **Quelques fonctions**\r\n",
        "\r\n"
      ]
    },
    {
      "cell_type": "markdown",
      "metadata": {
        "id": "Whjxa6q750V3"
      },
      "source": [
        "Vous allez devoir compléter les différentes fonctions que nous utiliserons par la suite dans notre super morpion !"
      ]
    },
    {
      "cell_type": "code",
      "metadata": {
        "id": "1QaHn3FLAaWA"
      },
      "source": [
        "# permet d'afficher le plateau\r\n",
        "def afficher_plateau(plateau):\r\n",
        "  affichage = '   _     _     _ \\n\\n'\r\n",
        "  for i in range(len(plateau)):\r\n",
        "    affichage = affichage+'|'\r\n",
        "    for j in range(len(plateau)):\r\n",
        "      affichage = affichage+'  '+plateau[i][j]+'  '\r\n",
        "      affichage = affichage+'|'\r\n",
        "    affichage = affichage+'\\n   _     _     _ \\n\\n'\r\n",
        "  print(affichage)\r\n",
        "  \r\n",
        "# on définit le numéro des cases de la manière suivante : \r\n",
        "# \r\n",
        "#  _   _   _ \r\n",
        "#\r\n",
        "#| 0 | 1 | 2 |\r\n",
        "#  _   _   _ \r\n",
        "#\r\n",
        "#| 3 | 4 | 5 |\r\n",
        "#  _   _   _ \r\n",
        "#\r\n",
        "#| 6 | 7 | 8 |\r\n",
        "#  _   _   _ \r\n",
        "\r\n",
        "def afficher_schema():\r\n",
        "  affichage = '   _     _     _ \\n\\n'\r\n",
        "  for i in range(len(plateau)):\r\n",
        "    affichage = affichage+'|'\r\n",
        "    for j in range(len(plateau)):\r\n",
        "      affichage = affichage+'  '+str(i*3+j)+'  '\r\n",
        "      affichage = affichage+'|'\r\n",
        "    affichage = affichage+'\\n   _     _     _ \\n\\n'\r\n",
        "  print(affichage)\r\n",
        "\r\n",
        "# on regarde si la case contient déjà un pion 'x' ou 'o'\r\n",
        "# vous devrez vérifier si la case du plateau portant \r\n",
        "# les numéros de lignes et de colonnes 'ligne' et 'colonne' contient la lettre o ou la lettre x\r\n",
        "# retourne vrai si la case est déjà jouée par un des joueurs, faux sinon\r\n",
        "def deja_jouer(plateau,ligne,colonne):\r\n",
        "  ###########A REMPLIR######################\r\n",
        "  # si la case contient la lettre o ou la lettre x on renvoie vrai, \r\n",
        "  if re.match('[ox]',plateau[ligne][colonne]):\r\n",
        "    return \r\n",
        "  # sinon on renvoie faux\r\n",
        "  else:\r\n",
        "    return \r\n",
        "  ##########################################\r\n",
        "\r\n",
        "# renvoie le numéro de la ligne de la case sur le plateau (les lignes vont de 0 à 2)\r\n",
        "# pour vous aider regarder bien les numéros des cases du plateau dans le commentaire précédent la fonction 'deja_jouer'.\r\n",
        "def ligne(case):\r\n",
        "  ###########A REMPLIR######################\r\n",
        "  if case >=0 and case < 3:\r\n",
        "    # on renvoie l'indice correspondant à la ligne si la case est sur la première ligne du morpion\r\n",
        "    return \r\n",
        "  else:\r\n",
        "    if case < 6:\r\n",
        "      # on renvoie l'indice correspondant à la ligne si la case est sur la deuxième ligne du morpion\r\n",
        "      return \r\n",
        "    else:\r\n",
        "      # on renvoie l'indice correspondant à la ligne si la case est sur la troixième ligne du morpion\r\n",
        "      return \r\n",
        "  ##########################################\r\n",
        "\r\n",
        "# renvoie le numéro de la colonne de la case sur le plateau (les colonnes vont de 0 à 2)\r\n",
        "# pour vous aider regarder bien les numéros des cases du plateau dans le commentaire précédent la fonction 'deja_jouer'.\r\n",
        "def colonne(case):\r\n",
        "  ###########A REMPLIR######################\r\n",
        "  if case >=0 and case < 3:\r\n",
        "    # on renvoie l'indice correspondant à la colonne si la case est sur la première ligne du morpion\r\n",
        "    return \r\n",
        "  else:\r\n",
        "    if case < 6:\r\n",
        "       # on renvoie l'indice correspondant à la colonne si la case est sur la deuxième ligne du morpion\r\n",
        "      return\r\n",
        "    else:\r\n",
        "      # on renvoie l'indice correspondant à la colonne si la case est sur la troixième ligne du morpion\r\n",
        "      return\r\n",
        "  ##########################################\r\n",
        "\r\n",
        "# permet au joueur (par son numéro) en paramètre de jouer un pion dans la case en paramètre\r\n",
        "# renvoie faux si la case ne peut pas être jouée, sinon renvoie vrai\r\n",
        "# joueur aura soit la valeur 0 soit la valeur 1\r\n",
        "def jouer(plateau,joueur,case):\r\n",
        "  ###########A REMPLIR######################\r\n",
        "  #pour commencer, il faut vérifier si la case a déjà été jouée, si elle a déjà été jouée on renvoie faux\r\n",
        "  if deja_jouer(plateau,ligne(case),colonne(case)):\r\n",
        "    return False\r\n",
        "  # si la case n'a pas été jouée, on joue la case et on renvoie vrai\r\n",
        "  # pensez à ajouter un espace avant et après le 'o' ou le 'x' de cette façon ' o ' et ' x ' \r\n",
        "  # et à bien différencier les deux joueurs\r\n",
        "  else:\r\n",
        "    if joueur == 0:\r\n",
        "      # le joueur 0 joue la lettre o\r\n",
        "      plateau[ligne(case)][colonne(case)] = \r\n",
        "    else:\r\n",
        "      # le joueur 1 joue la lettre x\r\n",
        "      plateau[ligne(case)][colonne(case)] = \r\n",
        "    return True\r\n",
        "  ##########################################\r\n",
        "\r\n",
        "# changera le joueur courant si le joueur est le joueur 1 (0 ici) alors on fera joueur le joueur 2 (1 ici).\r\n",
        "def change_joueur(joueur_courant):\r\n",
        "  ###########A REMPLIR######################\r\n",
        "  # si le joueur courant est le joueur 0 alors on passe au joueur 1\r\n",
        "  if joueur_courant == 0:\r\n",
        "    joueur_courant = \r\n",
        "  # sinon on passe au joueur 0\r\n",
        "  else:\r\n",
        "    joueur_courant =\r\n",
        "  return int(joueur_courant)\r\n",
        "  ##########################################\r\n",
        "\r\n",
        "# retourne vrai s'il ne reste plus aucune case à jouer, sinon retourne faux\r\n",
        "# vérifie s'il reste des cases contenant un espace (' ')\r\n",
        "def parti_fini(plateau):\r\n",
        "  fini = True\r\n",
        "  ligne = 0\r\n",
        "  while fini and (ligne < 3):\r\n",
        "    colonne = 0\r\n",
        "    while fini and (colonne < 3):\r\n",
        "      if plateau[ligne][colonne] == ' ':\r\n",
        "        fini = False\r\n",
        "      colonne = colonne + 1\r\n",
        "    ligne = ligne +1\r\n",
        "  if fini :\r\n",
        "    print(\"La partie est terminée. Personne n'a gagné... Pas de chances ! xD\")\r\n",
        "  return fini\r\n",
        "\r\n",
        "\r\n",
        "# retourne vrai si le joueur a gagné la partie, sinon retourne faux\r\n",
        "# vérifie à partir de la dernière case jouée\r\n",
        "def parti_gagne(plateau,joueur,case):\r\n",
        "  gagne = False\r\n",
        "  if plateau[0][colonne(case)] == plateau[1][colonne(case)] and plateau[2][colonne(case)] == plateau[1][colonne(case)] :\r\n",
        "    gagne = True\r\n",
        "  if plateau[ligne(case)][0] == plateau[ligne(case)][1] and plateau[ligne(case)][2] == plateau[ligne(case)][1]:\r\n",
        "    gagne = True\r\n",
        "  if colonne(case) == ligne(case):\r\n",
        "    if plateau[0][0] == plateau[1][1] and plateau[1][1] == plateau[2][2]:\r\n",
        "      gagne = True\r\n",
        "  return gagne\r\n",
        "\r\n"
      ],
      "execution_count": null,
      "outputs": []
    },
    {
      "cell_type": "markdown",
      "metadata": {
        "id": "MnKIXmX6C2Js"
      },
      "source": [
        "### **Le jeu**\r\n",
        "\r\n"
      ]
    },
    {
      "cell_type": "markdown",
      "metadata": {
        "id": "hM1nBES253N6"
      },
      "source": [
        "Maintenant complètons le développement du jeu en utilisant les différentes fonctions codées précédemment."
      ]
    },
    {
      "cell_type": "code",
      "metadata": {
        "id": "Q3zQljS9DCWU"
      },
      "source": [
        "# Les variables !\r\n",
        "\r\n",
        "# Notre méga plateau de jeu !\r\n",
        "plateau = [[' ',' ',' '],[' ',' ',' '],[' ',' ',' ']]\r\n",
        "\r\n",
        "# on définit le joueur qui jouera en premier\r\n",
        "# on veut donc un entier entre 0 et la taille du tableau de pseudo -1 (car début à 0 et non à 1)\r\n",
        "# ainsi si plus tard vous souhaitez créer un morpion avec plus de joueur ça sera déjà adapté :-)\r\n",
        "joueur_courant = random.randint(0,len(joueur)-1)\r\n",
        "\r\n",
        "###########A REMPLIR######################\r\n",
        "# pour commencer on affiche le plateau de départ\r\n",
        "\r\n",
        "##########################################\r\n",
        "\r\n",
        "# on initialise une variable pour dire que la parti n'est pas gagnée\r\n",
        "gagne = False\r\n",
        "\r\n",
        "#déroulement de la partie\r\n",
        "while not(parti_fini(plateau)) and not(gagne):\r\n",
        "  # on affiche ensuite le pseudo du joueur dont c'est le tour\r\n",
        "  print(\"C'est le tour de \"+joueur[joueur_courant]+\".\")\r\n",
        "\r\n",
        "  ###########A REMPLIR######################\r\n",
        "  # on affiche le schéma des cases pour aider l'utilisateur à choisir\r\n",
        "\r\n",
        "  ##########################################\r\n",
        "\r\n",
        "  # on demande au joueur quelle case il souhaite jouer\r\n",
        "  case = int(input(\"Quelle case souhaitez-vous jouer ?\"))\r\n",
        "\r\n",
        "  ###########A REMPLIR######################\r\n",
        "  # on vérifie que case est bien une case entre 0 et 8\r\n",
        "  while not(re.match('[0-8]',str(case))):\r\n",
        "    print(\"La case correspond à un chiffre entre 0 et 8.\")\r\n",
        "    # on demande à nouveau au joueur quelle case il souhaite jouer \r\n",
        "    case = \r\n",
        "  ##########################################\r\n",
        "\r\n",
        "  # on vérifie maintenant si la case a déjà été jouée\r\n",
        "  deja_joue = deja_jouer(plateau,ligne(case),colonne(case))\r\n",
        "  while deja_joue:\r\n",
        "    print(\"La case numéro \"+str(case)+\" a déjà été jouée.\")\r\n",
        "    case = int(input(\"Quelle case souhaitez-vous jouer ?\"))\r\n",
        "    # on vérifie que case est bien une case entre 0 et 8\r\n",
        "    while not(re.match('[0-8]',str(case))):\r\n",
        "      print(\"La case correspond à un chiffre entre 0 et 8.\") \r\n",
        "      case = int(input(\"Quelle case souhaitez-vous jouer ?\"))\r\n",
        "    deja_joue = deja_jouer(plateau,ligne(case),colonne(case))\r\n",
        "  \r\n",
        "  ###########A REMPLIR######################\r\n",
        "  # on joue la case donnée par le joueur\r\n",
        "\r\n",
        "  # on vérifie si le joueur a gagné ou non, s'il a gagné la variable gagne passe à vrai pour stopper le jeu\r\n",
        "  if parti_gagne(plateau,joueur_courant,case):\r\n",
        "    print(\"Le joueur numéro \",joueur_courant,\"a gagné la partie ! Félicitations,\",joueur[joueur_courant])\r\n",
        "    gagne = \r\n",
        "  ##########################################\r\n",
        "\r\n",
        "  ###########A REMPLIR######################\r\n",
        "  # on affiche à nouveau le plateau pour voir l'avancement\r\n",
        "  \r\n",
        "  ##########################################\r\n",
        "\r\n",
        "  ###########A REMPLIR######################\r\n",
        "  # on change de joueur\r\n",
        "\r\n",
        "  ##########################################\r\n",
        "\r\n",
        "\r\n",
        "\r\n"
      ],
      "execution_count": null,
      "outputs": []
    }
  ]
}