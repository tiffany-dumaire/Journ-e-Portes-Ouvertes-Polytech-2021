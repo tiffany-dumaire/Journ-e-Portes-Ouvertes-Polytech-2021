{
  "nbformat": 4,
  "nbformat_minor": 0,
  "metadata": {
    "colab": {
      "name": "Fiche Aides.ipynb",
      "provenance": [],
      "collapsed_sections": [],
      "include_colab_link": true
    },
    "kernelspec": {
      "name": "python3",
      "display_name": "Python 3"
    }
  },
  "cells": [
    {
      "cell_type": "markdown",
      "metadata": {
        "id": "view-in-github",
        "colab_type": "text"
      },
      "source": [
        "<a href=\"https://colab.research.google.com/github/tiffany-dumaire/Journ-e-Portes-Ouvertes-Polytech-2021/blob/main/Fiche_Aides.ipynb\" target=\"_parent\"><img src=\"https://colab.research.google.com/assets/colab-badge.svg\" alt=\"Open In Colab\"/></a>"
      ]
    },
    {
      "cell_type": "markdown",
      "metadata": {
        "id": "Ow3upsVTYpUK"
      },
      "source": [
        "# **Vos Informations**"
      ]
    },
    {
      "cell_type": "markdown",
      "metadata": {
        "id": "SuMM79Qa6PDR"
      },
      "source": [
        "Dans un premier temps, vous allez devoir remplir le formulaire avec vos informations. Vous aurez le choix de le garder anonyme ou de renvoyer l'exercice finalisée à l'adresse mail suivante : \r\n",
        "<adresse_speciale_jpo?oui|non> afin d'obtenir une correction ou d'en discuter."
      ]
    },
    {
      "cell_type": "code",
      "metadata": {
        "id": "_dRmGbRJRveV",
        "cellView": "form"
      },
      "source": [
        "#@markdown Remplissez ce formulaire avec vos informations et renvoyer le fichier par mail si vous souhaitez obtenir une correction de la part des étudiants d'IG ;)\r\n",
        "Nom = ''  #@param {type: \"string\"}\r\n",
        "Prénom = ''  #@param {type: \"string\"}\r\n",
        "Date_de_naissance = '2001-07-05'  #@param {type: \"date\"}\r\n",
        "Classe = \"Terminale\"  #@param ['Première','Terminale', 'Bac +1', 'Bac +2', 'Bac +3','Autre']\r\n",
        "Futur_ou_future_IG = \"Oui\"  #@param ['Oui','Non', 'Je ne sais pas']\r\n"
      ],
      "execution_count": null,
      "outputs": []
    },
    {
      "cell_type": "markdown",
      "metadata": {
        "id": "kjEOj7aKYLCR"
      },
      "source": [
        "# **Aides**"
      ]
    },
    {
      "cell_type": "markdown",
      "metadata": {
        "id": "LGVtvgeIaREF"
      },
      "source": [
        "## **Les chaînes de caractères**\r\n",
        "\r\n"
      ]
    },
    {
      "cell_type": "markdown",
      "metadata": {
        "id": "lBWSIltV55sr"
      },
      "source": [
        "Dans un premier temps, nous allons vous faire une petite démonstration de code en Python en réutilisant les données de votre formulaire.\r\n",
        "\r\n",
        "Vous pourrez voir comment manipuler les chaînes de caractère en Python."
      ]
    },
    {
      "cell_type": "code",
      "metadata": {
        "id": "fe8mLjtdEW1n"
      },
      "source": [
        "if (Futur_ou_future_IG == 'Oui'):\r\n",
        "  s = 'Je me nomme %s %s et je suis né(e) le %s . \\nJe suis actuellement en %s. \\nPlus tard, je souhaiterais intégrer la formation IG !' %(Prénom,Nom,Date_de_naissance,Classe)\r\n",
        "else:\r\n",
        "  if (Futur_ou_future_IG == 'Non'):\r\n",
        "    s = 'Je me nomme %s %s et je suis né(e) le %s . \\nJe suis actuellement en %s. \\nJe ne pense pas intégrer la formation IG mais je regarde quand même !' %(Prénom,Nom,Date_de_naissance,Classe)\r\n",
        "  else:\r\n",
        "    s = \"Je me nomme %s %s et je suis né(e) le %s . \\nJe suis actuellement en %s. \\nJe n'ai pas encore pris ma décision mais cette formation a l'air cool !\" %(Prénom,Nom,Date_de_naissance,Classe)\r\n",
        "print(s)"
      ],
      "execution_count": null,
      "outputs": []
    },
    {
      "cell_type": "markdown",
      "metadata": {
        "id": "FJnZ8MMBE3MA"
      },
      "source": [
        "## **Slider**\r\n",
        "\r\n"
      ]
    },
    {
      "cell_type": "markdown",
      "metadata": {
        "id": "ggKTngeS57hO"
      },
      "source": [
        "Voici un exemple d'utilisation de slider pour modifier les affichage. Vous allez devoir utiliser ce type d'affichage dans le premier exercice. Lisez bien les commentaires :D"
      ]
    },
    {
      "cell_type": "code",
      "metadata": {
        "id": "NDUJ-ZBkZ66V"
      },
      "source": [
        "''' Ceci est un exemple. \r\n",
        "    Il est inutile de modifier le contenu de cette cellule\r\n",
        "'''\r\n",
        "\r\n",
        "#on crée un slider afin de modifier dynamiquement la variable x\r\n",
        "@interact(x=(5, 50, 5))\r\n",
        "#la fonction suivante affichera le carré de x. \r\n",
        "def impression_carre(x=5):\r\n",
        "  print(f\"Le carré de {x:} est {x*x:}\")\r\n",
        "\r\n",
        "# on crée maintenant deux sliders afin de modifier dynamiquement \r\n",
        "# les variables p et q associées à la fonction \"operations\"\r\n",
        "@interact(p=(0, 10, 1), q=(1, 10, 1))\r\n",
        "# la fonction suivante affichera le résultat des quatre opération mathématiques de base :\r\n",
        "# - addition,\r\n",
        "# - soustraction,\r\n",
        "# - multiplication,\r\n",
        "# - division.\r\n",
        "def operations(p=0,q=0):\r\n",
        "  print('Le résultat de la somme de %d et %d est %d.' %(p, q, p+q))\r\n",
        "  print('Le résultat de la soustraction de %d par %d est %d.' %(p, q, p-q))\r\n",
        "  print('Le résultat de la multiplication de %d par %d donne %d.' %(p, q, p*q))\r\n",
        "  print('Le résultat de la division entière de %d par %d donne %d.' %(p, q, p/q))"
      ],
      "execution_count": null,
      "outputs": []
    },
    {
      "cell_type": "markdown",
      "metadata": {
        "id": "sNfFIBeXK-N0"
      },
      "source": [
        "## **Les boucles**"
      ]
    },
    {
      "cell_type": "markdown",
      "metadata": {
        "id": "n7iSp2lq59q6"
      },
      "source": [
        "Pour ces exercices, nous utiliserons deux types de boucles : les boucles ***for*** et les boucles ***while***. Pour rappel, les boucles ***for*** permettent de parcourir un tableau en entier, tandis que les boucles ***while*** ne parcourent le tableau jusqu'à ce que la condition de fin soit remplie. \r\n"
      ]
    },
    {
      "cell_type": "markdown",
      "metadata": {
        "id": "3xapUyS-0aAm"
      },
      "source": [
        "### **Boucle For**"
      ]
    },
    {
      "cell_type": "markdown",
      "metadata": {
        "id": "K_LkzsqS5_9D"
      },
      "source": [
        "Commençons par les boucles ***for*** :"
      ]
    },
    {
      "cell_type": "code",
      "metadata": {
        "id": "kGIHq0DhV01x"
      },
      "source": [
        "# boucle affichant les entiers allant de 1 (inclu) à 11 (exclu).\r\n",
        "for i in range(1,11,1) :\r\n",
        "  print('Le valeur de i est ',i)"
      ],
      "execution_count": null,
      "outputs": []
    },
    {
      "cell_type": "code",
      "metadata": {
        "id": "KxYxSuNsWVlZ"
      },
      "source": [
        "# boucle affichant les chiffres allant de 0 à 9\r\n",
        "# par défaut les indices commencent à 0 dans les tableaux et dans la fonction range\r\n",
        "for i in range(10) :\r\n",
        "  print('Le valeur de i est ',i)"
      ],
      "execution_count": null,
      "outputs": []
    }
  ]
}