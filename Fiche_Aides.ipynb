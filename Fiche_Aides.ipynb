{
  "nbformat": 4,
  "nbformat_minor": 0,
  "metadata": {
    "colab": {
      "name": "Fiche Aides.ipynb",
      "provenance": [],
      "collapsed_sections": [],
      "include_colab_link": true
    },
    "kernelspec": {
      "name": "python3",
      "display_name": "Python 3"
    }
  },
  "cells": [
    {
      "cell_type": "markdown",
      "metadata": {
        "id": "view-in-github",
        "colab_type": "text"
      },
      "source": [
        "<a href=\"https://colab.research.google.com/github/tiffany-dumaire/Journ-e-Portes-Ouvertes-Polytech-2021/blob/main/Fiche_Aides.ipynb\" target=\"_parent\"><img src=\"https://colab.research.google.com/assets/colab-badge.svg\" alt=\"Open In Colab\"/></a>"
      ]
    },
    {
      "cell_type": "markdown",
      "metadata": {
        "id": "Ow3upsVTYpUK"
      },
      "source": [
        "# **Vos Informations**"
      ]
    },
    {
      "cell_type": "markdown",
      "metadata": {
        "id": "SuMM79Qa6PDR"
      },
      "source": [
        "Dans un premier temps, vous allez devoir remplir le formulaire avec vos informations. Vous aurez le choix de le garder anonyme ou de renvoyer l'exercice finalisée à l'adresse mail suivante : \r\n",
        "<adresse_speciale_jpo?oui|non> afin d'obtenir une correction ou d'en discuter."
      ]
    },
    {
      "cell_type": "code",
      "metadata": {
        "id": "_dRmGbRJRveV",
        "cellView": "form"
      },
      "source": [
        "#@markdown Remplissez ce formulaire avec vos informations et renvoyer le fichier par mail si vous souhaitez obtenir une correction de la part des étudiants d'IG ;)\r\n",
        "Nom = 'Vraiment'  #@param {type: \"string\"}\r\n",
        "Prénom = 'IG'  #@param {type: \"string\"}\r\n",
        "Date_de_naissance = '2001-03-06'  #@param {type: \"date\"}\r\n",
        "Classe = \"Terminale\"  #@param ['Première','Terminale', 'Bac +1', 'Bac +2', 'Bac +3','Autre']\r\n",
        "Futur_ou_future_IG = \"Oui\"  #@param ['Oui','Non', 'Je ne sais pas']\r\n"
      ],
      "execution_count": null,
      "outputs": []
    },
    {
      "cell_type": "markdown",
      "metadata": {
        "id": "kjEOj7aKYLCR"
      },
      "source": [
        "# **Aides**"
      ]
    },
    {
      "cell_type": "markdown",
      "metadata": {
        "id": "LGVtvgeIaREF"
      },
      "source": [
        "## **Les chaînes de caractères**\r\n",
        "\r\n"
      ]
    },
    {
      "cell_type": "markdown",
      "metadata": {
        "id": "lBWSIltV55sr"
      },
      "source": [
        "Dans un premier temps, nous allons vous faire une petite démonstration de code en Python en réutilisant les données de votre formulaire.\r\n",
        "\r\n",
        "Vous pourrez voir comment manipuler les chaînes de caractère en Python."
      ]
    },
    {
      "cell_type": "code",
      "metadata": {
        "id": "fe8mLjtdEW1n"
      },
      "source": [
        "if (Futur_ou_future_IG == 'Oui'):\r\n",
        "  s = 'Je me nomme %s %s et je suis né(e) le %s . \\nJe suis actuellement en %s. \\nPlus tard, je souhaiterais intégrer la formation IG !' %(Prénom,Nom,Date_de_naissance,Classe)\r\n",
        "else:\r\n",
        "  if (Futur_ou_future_IG == 'Non'):\r\n",
        "    s = 'Je me nomme %s %s et je suis né(e) le %s . \\nJe suis actuellement en %s. \\nJe ne pense pas intégrer la formation IG mais je regarde quand même !' %(Prénom,Nom,Date_de_naissance,Classe)\r\n",
        "  else:\r\n",
        "    s = \"Je me nomme %s %s et je suis né(e) le %s . \\nJe suis actuellement en %s. \\nJe n'ai pas encore pris ma décision mais cette formation a l'air cool !\" %(Prénom,Nom,Date_de_naissance,Classe)\r\n",
        "print(s)"
      ],
      "execution_count": null,
      "outputs": []
    },
    {
      "cell_type": "markdown",
      "metadata": {
        "id": "FJnZ8MMBE3MA"
      },
      "source": [
        "## **Slider**\r\n",
        "\r\n"
      ]
    },
    {
      "cell_type": "markdown",
      "metadata": {
        "id": "ggKTngeS57hO"
      },
      "source": [
        "Voici un exemple d'utilisation de slider pour modifier les affichage. Vous allez devoir utiliser ce type d'affichage dans le premier exercice. Lisez bien les commentaires :D"
      ]
    },
    {
      "cell_type": "code",
      "metadata": {
        "id": "NDUJ-ZBkZ66V"
      },
      "source": [
        "''' Ceci est un exemple. \r\n",
        "    Il est inutile de modifier le contenu de cette cellule\r\n",
        "'''\r\n",
        "from ipywidgets import interact, widgets, IntSlider\r\n",
        "\r\n",
        "#on crée un slider afin de modifier dynamiquement la variable x\r\n",
        "@interact(x=(5, 50, 5))\r\n",
        "#la fonction suivante affichera le carré de x. \r\n",
        "def impression_carre(x=5):\r\n",
        "  print(f\"Le carré de {x:} est {x*x:}\")\r\n",
        "\r\n",
        "# on crée maintenant deux sliders afin de modifier dynamiquement \r\n",
        "# les variables p et q associées à la fonction \"operations\"\r\n",
        "@interact(p=(0, 10, 1), q=(1, 10, 1))\r\n",
        "# la fonction suivante affichera le résultat des quatre opération mathématiques de base :\r\n",
        "# - addition,\r\n",
        "# - soustraction,\r\n",
        "# - multiplication,\r\n",
        "# - division.\r\n",
        "def operations(p=0,q=0):\r\n",
        "  print('Le résultat de la somme de %d et %d est %d.' %(p, q, p+q))\r\n",
        "  print('Le résultat de la soustraction de %d par %d est %d.' %(p, q, p-q))\r\n",
        "  print('Le résultat de la multiplication de %d par %d donne %d.' %(p, q, p*q))\r\n",
        "  print('Le résultat de la division entière de %d par %d donne %d.' %(p, q, p/q))"
      ],
      "execution_count": null,
      "outputs": []
    },
    {
      "cell_type": "markdown",
      "metadata": {
        "id": "sNfFIBeXK-N0"
      },
      "source": [
        "## **Les boucles**"
      ]
    },
    {
      "cell_type": "markdown",
      "metadata": {
        "id": "n7iSp2lq59q6"
      },
      "source": [
        "Pour ces exercices, nous utiliserons deux types de boucles : les boucles ***for*** et les boucles ***while***. Pour rappel, les boucles ***for*** permettent de parcourir un tableau en entier, tandis que les boucles ***while*** ne parcourent le tableau jusqu'à ce que la condition de fin soit remplie. \r\n"
      ]
    },
    {
      "cell_type": "markdown",
      "metadata": {
        "id": "3xapUyS-0aAm"
      },
      "source": [
        "### **Boucle For**"
      ]
    },
    {
      "cell_type": "markdown",
      "metadata": {
        "id": "K_LkzsqS5_9D"
      },
      "source": [
        "Commençons par les boucles ***for*** :"
      ]
    },
    {
      "cell_type": "code",
      "metadata": {
        "id": "kGIHq0DhV01x"
      },
      "source": [
        "# boucle affichant les entiers allant de 1 (inclu) à 11 (exclu).\r\n",
        "for i in range(1,11,1) :\r\n",
        "  print('Le valeur de i est ',i)"
      ],
      "execution_count": null,
      "outputs": []
    },
    {
      "cell_type": "code",
      "metadata": {
        "id": "KxYxSuNsWVlZ"
      },
      "source": [
        "# boucle affichant les chiffres allant de 0 à 9\r\n",
        "# par défaut les indices commencent à 0 dans les tableaux et dans la fonction range\r\n",
        "for i in range(10) :\r\n",
        "  print('Le valeur de i est ',i)"
      ],
      "execution_count": null,
      "outputs": []
    },
    {
      "cell_type": "markdown",
      "metadata": {
        "id": "UgBT6_LqnspS"
      },
      "source": [
        "### **Boucle While**"
      ]
    },
    {
      "cell_type": "markdown",
      "metadata": {
        "id": "hEK39WUqntPe"
      },
      "source": [
        "Nous allons maintenant vous expliquer comment utiliser les boucles \"tant que\" (while) :\r\n",
        "\r\n",
        "1.   Dans un premier temps sachez que dans l'exercice 1 vous trouverez vous aurez un compteur à incrémenter de 1.\r\n",
        "2.   Comme pour la boucle for la boucle while est un processus itératif, cependant celle-ci peut s'arrêter selon des conditions plus variées et parfois multiples.\r\n",
        "\r\n",
        "Pour vous expliquer plus simplement prenons l'exemple d'un compteur, on souhaite incrémenter un compteur jusqu'à ce que celui-ci atteigne un certain seuil et on l'affichera pour voir."
      ]
    },
    {
      "cell_type": "code",
      "metadata": {
        "id": "ujLtL1zXntm6"
      },
      "source": [
        "# on initialise une variable compteur à 0\r\n",
        "compteur = 0\r\n",
        "\r\n",
        "# on ouvre la boucle while avec la condition que si le compteur est plus grand que 10 alors on ne rentre plus dans la boucle.\r\n",
        "while compteur < 10 :\r\n",
        "  compteur = compteur + 1\r\n",
        "  print(compteur)"
      ],
      "execution_count": null,
      "outputs": []
    },
    {
      "cell_type": "markdown",
      "metadata": {
        "id": "U9W2nNOuWJTF"
      },
      "source": [
        "Vous pouvez constater ici que lorsque la condition n'est plus respectée, car ici compteur est maintenant égal à 10, alors la boucle s'arrête.\r\n",
        "\r\n",
        "Regardons maintenant une boucle while ayant deux conditions d'arrêts, on doit faire en sorte de mettre la condition d'arrêt qui peut être bloquante avant les autres conditions (exemple si on dépasse la taille d'un tableau en lecture, vous verrez ça en apprenant à développer plus tard :p) :"
      ]
    },
    {
      "cell_type": "code",
      "metadata": {
        "id": "OVyOC_MCWqAe"
      },
      "source": [
        "# on réinitialise compteur à 0\r\n",
        "compteur = 0\r\n",
        "# on initialise une variable fini à True\r\n",
        "fini = True\r\n",
        "\r\n",
        "# on ouvre la boucle while avec la condition qu'elle tourne tant que compteur < 100 et que fini soit vrai\r\n",
        "while compteur < 100 and fini :\r\n",
        "  compteur = compteur + 1\r\n",
        "  # on change la valeur de fini si compteur est multiple de 6 et 9\r\n",
        "  if compteur % 6 == 0 and compteur % 9 == 0 :\r\n",
        "    fini = False\r\n",
        "  print(compteur,',',fini)\r\n"
      ],
      "execution_count": null,
      "outputs": []
    },
    {
      "cell_type": "markdown",
      "metadata": {
        "id": "VwgjXO9tXYrL"
      },
      "source": [
        "Ici 18 est multiple de 6 et de 9 alors fini passe à faux donc on s'arrête. "
      ]
    },
    {
      "cell_type": "markdown",
      "metadata": {
        "id": "KZCBksrYXhf8"
      },
      "source": [
        "## **Les INPUT**"
      ]
    },
    {
      "cell_type": "markdown",
      "metadata": {
        "id": "LvyXczR7Xt3j"
      },
      "source": [
        "Les input servent à demander des informations aux utilisateurs, vous pouvez passer une petite phrase en paramètre afin de pouvoir aiguiller l'utilisateur lorsqu'il va saisir l'information.\r\n",
        "\r\n",
        "Nous allons vous donner des exemples pour récupérer des mots ou des nombres entiers."
      ]
    },
    {
      "cell_type": "code",
      "metadata": {
        "id": "jFcg6F55d3BF"
      },
      "source": [
        "# On demande à l'utilisateur de saisir un mot\r\n",
        "mot = str(input('Saisissez un mot :'))\r\n",
        "# on affiche le mot\r\n",
        "print('Le mot que vous avez saisi est :',mot)\r\n",
        "\r\n",
        "# On demande à l'utilisateur de saison un nombre entier\r\n",
        "entier = int(input('Saisissez un nombre entier :'))\r\n",
        "# On affiche maintenant ce nombre\r\n",
        "print('Le nombre entier que vous avez saisi est :',entier)"
      ],
      "execution_count": null,
      "outputs": []
    },
    {
      "cell_type": "markdown",
      "metadata": {
        "id": "PfNpoWqFe0zK"
      },
      "source": [
        "## **Récupérer un nombre aléatoire**"
      ]
    },
    {
      "cell_type": "markdown",
      "metadata": {
        "id": "Q78O6G4te7G2"
      },
      "source": [
        "On cherche à récupérer un élément aléatoire dans un tableau."
      ]
    },
    {
      "cell_type": "code",
      "metadata": {
        "id": "JInmptRLfNEV"
      },
      "source": [
        "import random\r\n",
        "\r\n",
        "# Voici le tableau \r\n",
        "tableau = ['element1','element2','element3']\r\n",
        "# On choisit un element aleatoire dans le tableau\r\n",
        "element_aleatoire = random.choice(tableau)\r\n",
        "# On renvoie l'élément choisi aléatoirement\r\n",
        "print(element_aleatoire)"
      ],
      "execution_count": null,
      "outputs": []
    },
    {
      "cell_type": "markdown",
      "metadata": {
        "id": "CVV42MLnfoN0"
      },
      "source": [
        "On décide maintenant de récupérer un entier aléatoire entre 1 et 10."
      ]
    },
    {
      "cell_type": "code",
      "metadata": {
        "id": "J-joCUaWfzYk"
      },
      "source": [
        "import random\r\n",
        "\r\n",
        "# On génère un nombre aléatoire entre 1 et 10\r\n",
        "nombre_aleatoire = random.randint(1,10)\r\n",
        "# On renvoie le nombre généré aléatoirement\r\n",
        "print(nombre_aleatoire)"
      ],
      "execution_count": null,
      "outputs": []
    },
    {
      "cell_type": "markdown",
      "metadata": {
        "id": "dQAaVcIEgoLU"
      },
      "source": [
        "## **Utilisation des dictionnaires**"
      ]
    },
    {
      "cell_type": "markdown",
      "metadata": {
        "id": "1HXre_5XgrM6"
      },
      "source": [
        "Un dictionnaire est comme une liste en Python sauf que chaque élément est constitué d'un couple 'clé:valeur'.\r\n",
        "\r\n",
        "Voici un exemple d'utilisation de dictionnaire :\r\n",
        "*   initialisation d'un dictionnaire\r\n",
        "*   afficher un dictionnaire\r\n",
        "*   ajouter un élément dans un dictionnaire\r\n",
        "*   afficher la valeur associée à une clé dans un dictionnaire\r\n",
        "*   modifier une valeur dans un questionnaire\r\n",
        "\r\n",
        "\r\n",
        "\r\n"
      ]
    },
    {
      "cell_type": "code",
      "metadata": {
        "id": "GvIbMC_6g9gw"
      },
      "source": [
        "# Initialisation d'un dictionnaire \r\n",
        "dictionnaire = {'cle1':'valeur1','cle2':'valeur2'}\r\n",
        "# On affiche le dictionnaire\r\n",
        "print('on affiche le dictionnaire :',dictionnaire,'\\n')\r\n",
        "\r\n",
        "# On ajoute un élément au dictionnaire\r\n",
        "dictionnaire['cle3'] = 'valeur3'\r\n",
        "# on affiche le dictionnaire modifié\r\n",
        "print('le dictionnaire modifié est',dictionnaire,'\\n')\r\n",
        "\r\n",
        "# on veut afficher la valeur associé à la cle2\r\n",
        "print('la valeur associé à la cle2 est',dictionnaire['cle2'],'\\n')\r\n",
        "\r\n",
        "# on modifie la valeur associée à la clé 1\r\n",
        "dictionnaire['cle1'] = 'valeur_modifiée'\r\n",
        "# on affiche le dictionnaire modifié\r\n",
        "print('dictionnaire avec modification de la valeur de la cle 1 :',dictionnaire,'\\n')"
      ],
      "execution_count": null,
      "outputs": []
    },
    {
      "cell_type": "markdown",
      "metadata": {
        "id": "_4mCUAdCos7G"
      },
      "source": [
        "## **Affichage de smiley**"
      ]
    },
    {
      "cell_type": "markdown",
      "metadata": {
        "id": "Ofioh5WSowcF"
      },
      "source": [
        "Parmi les exercices présentés aujourd'hui, vous trouverez un exercice où il vous faudra utiliser les émojis. Nous allons donc vous montrer comment les afficher !\r\n",
        "\r\n",
        "Tout d'abord rendez-vous sur le site : https://wprock.fr/t/emoji/ afin de trouver des émoji. Afin d'afficher un smiley spécifique vous devrez donner le shortcode. "
      ]
    },
    {
      "cell_type": "code",
      "metadata": {
        "id": "eKvC9z7kpcnq"
      },
      "source": [
        "# Pour commencer on installe le module emoji afin d'afficher des emojis !\r\n",
        "!pip install emoji"
      ],
      "execution_count": null,
      "outputs": []
    },
    {
      "cell_type": "code",
      "metadata": {
        "id": "1gB45G9kp5xv"
      },
      "source": [
        "# on importe la librairie qui permet d'afficher les émojis\r\n",
        "import emoji\r\n",
        "\r\n",
        "# On affiche le smiley ayant :christmas_tree: pour shortcode\r\n",
        "print(emoji.emojize(':christmas_tree:', use_aliases=True))\r\n",
        "\r\n",
        "# Pour afficher un smiley dans une phrase on ajoute le shortcode dans la phrase\r\n",
        "print(emoji.emojize('Notre :christmas_tree: est prêt pour l arrivée des cadeaux', use_aliases=True))"
      ],
      "execution_count": null,
      "outputs": []
    }
  ]
}